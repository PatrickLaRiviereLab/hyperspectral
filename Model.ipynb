{
 "cells": [
  {
   "cell_type": "code",
   "execution_count": 2,
   "metadata": {},
   "outputs": [],
   "source": [
    "import pandas as pd\n",
    "import numpy as np\n",
    "import matplotlib.pyplot as plt"
   ]
  },
  {
   "cell_type": "markdown",
   "metadata": {},
   "source": [
    "### Reading dataframes for each protein into python \n",
    "Renaming columns to be easily accessable, normalizing the excitation and emission spectra, taking sum of column "
   ]
  },
  {
   "cell_type": "code",
   "execution_count": 3,
   "metadata": {},
   "outputs": [],
   "source": [
    "df_mEmerald = pd.read_csv('mEmerald_fpbase_spectra.csv')\n",
    "df_mEmerald.fillna(0, inplace = True)\n",
    "df_mTagBFP2 = pd.read_csv('mTagBFP2_fpbase_spectra.csv')\n",
    "df_mTagBFP2.fillna(0, inplace = True)\n",
    "df_mCherry = pd.read_csv('mCherry_fpbase_spectra.csv')\n",
    "df_mCherry.fillna(0, inplace = True)\n",
    "df_mNeptune2p5 = pd.read_csv('mNeptune2p5_fbpase_spectra.csv')\n",
    "df_mNeptune2p5.fillna(0, inplace = True)\n",
    "\n",
    "mEmerald_columns = df_mEmerald.rename(columns ={'mEmerald ex': 'excitation', 'mEmerald em': 'emission'})\n",
    "mTagBFP2_columns = df_mTagBFP2.rename(columns ={'mTagBFP2 ex': 'excitation', 'mTagBFP2 em': 'emission'})\n",
    "mCherry_columns = df_mCherry.rename(columns ={'mCherry ex': 'excitation', 'mCherry em': 'emission'})\n",
    "mNeptune2p5_columns = df_mNeptune2p5.rename(columns ={'mNeptune2.5 ex': 'excitation', 'mNeptune2.5 em': 'emission'})\n",
    "\n",
    "spectra_list = [mEmerald_columns, mTagBFP2_columns, mCherry_columns, mNeptune2p5_columns]\n",
    "for j in range(0,4):\n",
    "    excitation_column = spectra_list[j]['excitation']\n",
    "    area = np.trapz(excitation_column, dx = 1)\n",
    "    normalized = excitation_column/area\n",
    "    excitation_column = normalized\n",
    "    spectra_list[j]['excitation'] = normalized\n",
    "    new_area = np.trapz(excitation_column, dx = 1)\n",
    "    column = spectra_list[j]['emission']\n",
    "    area_emission = np.trapz(column, dx = 1)\n",
    "    normalized_em = column/area_emission\n",
    "    column = normalized_em\n",
    "    spectra_list[j]['emission'] = normalized_em\n",
    "    new_area_em = np.trapz(column, dx = 1)"
   ]
  },
  {
   "cell_type": "markdown",
   "metadata": {},
   "source": [
    "### Making sure each spectra dataframe has data for 400-900nm"
   ]
  },
  {
   "cell_type": "code",
   "execution_count": 4,
   "metadata": {},
   "outputs": [],
   "source": [
    "wavelength = 701\n",
    "for index in range(401, 601):\n",
    "    mEmerald_columns.loc[len(mEmerald_columns.index)] = [wavelength, 0.0, 0.0]\n",
    "    wavelength = wavelength + 1\n",
    "\n",
    "wavelength = 651\n",
    "for index in range(341, 591):\n",
    "    mTagBFP2_columns.loc[len(mTagBFP2_columns.index)] = [wavelength, 0.0, 0.0]\n",
    "    wavelength = wavelength + 1\n",
    "\n",
    "wavelength = 851\n",
    "for index in range(621, 671):\n",
    "    mNeptune2p5_columns.loc[len(mNeptune2p5_columns.index)] = [wavelength, 0.0, 0.0]\n",
    "    wavelength = wavelength + 1"
   ]
  },
  {
   "cell_type": "markdown",
   "metadata": {},
   "source": [
    "### Function to solve emission bin area using $i$ and $j$ \n",
    "Corresponding lambda_min and lambda_max to the min and max wavelengths in channel i in a list of the 200 total bins "
   ]
  },
  {
   "cell_type": "code",
   "execution_count": 5,
   "metadata": {},
   "outputs": [],
   "source": [
    "spectra_list = [mEmerald_columns, mTagBFP2_columns, mCherry_columns, mNeptune2p5_columns]\n",
    "\n",
    "def calc_emission_bin(i, j):\n",
    "    bins_list = [*range(400, 900, 10)]\n",
    "    total_bins = 4*bins_list \n",
    "    df_spectra = spectra_list[j]\n",
    "    lambda_min = total_bins[i]\n",
    "    lambda_max = lambda_min + 10\n",
    "    bin_i = range(lambda_min, lambda_max)\n",
    "    df_sliced_data = df_spectra.loc[df_spectra['wavelength'].isin(bin_i)]\n",
    "    # print(df_sliced_data)\n",
    "    sliced_data_emmision = df_sliced_data['emission']\n",
    "    emission_bin = np.trapz(sliced_data_emmision)\n",
    "    # print('Emission bin sum for i = ', i, 'and j = ', j, 'is', emission_bin)\n",
    "    return emission_bin"
   ]
  },
  {
   "cell_type": "markdown",
   "metadata": {},
   "source": [
    "### Function to calculate the excitation values from the illumination wavelengths\n",
    "Excitation value corresponding to excitation wavelengths for each protein: 405nm, 488nm, 561nm, 637nm. Found these values on csv files"
   ]
  },
  {
   "cell_type": "code",
   "execution_count": 6,
   "metadata": {},
   "outputs": [],
   "source": [
    "def calc_excitation(i, j): \n",
    "    illumation_wavelength_list = [405, 488, 561, 637]\n",
    "    if 0 <= i < 50: \n",
    "        illumation_wavelength = illumation_wavelength_list[0]\n",
    "    elif 50 <= i < 100: \n",
    "        illumation_wavelength = illumation_wavelength_list[1]\n",
    "    elif 100 <= i < 150:\n",
    "        illumation_wavelength = illumation_wavelength_list[2]\n",
    "    elif 150 <= i < 200:\n",
    "        illumation_wavelength = illumation_wavelength_list[3]\n",
    "    else:\n",
    "        print('Invalid i value')\n",
    "    df_sliced = spectra_list[j].loc[spectra_list[j]['wavelength'] == illumation_wavelength]\n",
    "    excitation_wavelength = df_sliced['excitation'].iloc[0]\n",
    "    \n",
    "    return excitation_wavelength"
   ]
  },
  {
   "cell_type": "markdown",
   "metadata": {},
   "source": [
    "### Function to index over brightness values using a given $j$"
   ]
  },
  {
   "cell_type": "code",
   "execution_count": 7,
   "metadata": {},
   "outputs": [],
   "source": [
    "def calc_brightness(j):\n",
    "    # Found brightness values on slack \n",
    "    brightness_list = [39.1, 32.38, 15.85, 22.8] \n",
    "    brightness = brightness_list[j]\n",
    "    # print('Brightness value for j = ', j, 'is', brightness)\n",
    "    return brightness"
   ]
  },
  {
   "cell_type": "markdown",
   "metadata": {},
   "source": [
    "### Imaging model without before $k$ is specified"
   ]
  },
  {
   "cell_type": "code",
   "execution_count": 8,
   "metadata": {},
   "outputs": [],
   "source": [
    "def calc_a_ij_wo_k(i, j) :\n",
    "    k = 1\n",
    "    brightness_value = calc_brightness(j)\n",
    "    excitation_value = calc_excitation(i, j)\n",
    "    emission_bin_area = calc_emission_bin(i, j)\n",
    "    a_ij = k * brightness_value * excitation_value * emission_bin_area\n",
    "    # print('Matrix A for image channel i = ', i, ' and spectrum j = ', j, 'is ', a)\n",
    "    return a_ij\n",
    "\n",
    "def form_matrix_A_wo_k():\n",
    "    A = np.zeros((200, 4))\n",
    "    for j in range(0, 4):\n",
    "        for i in range(0, 200):\n",
    "            A[i, j] = calc_a_ij_wo_k(i, j)\n",
    "    return A"
   ]
  },
  {
   "cell_type": "code",
   "execution_count": 9,
   "metadata": {},
   "outputs": [
    {
     "data": {
      "text/plain": [
       "0.017846902914808855"
      ]
     },
     "execution_count": 9,
     "metadata": {},
     "output_type": "execute_result"
    }
   ],
   "source": [
    "calc_a_ij_wo_k(10, 0)\n",
    "# B = form_matrix_A_wo_k() \n",
    "# B[10,0]"
   ]
  },
  {
   "cell_type": "markdown",
   "metadata": {},
   "source": [
    "### Function for the variable $k_i$\n",
    "We are trying to give each fluorophore a fair chance. Each of our illumination wavelengths is targetted mainly at a specific fluorophore. Experimentally, we can choose the illumination strengths. So, we want to balance out our illumination strengths so that a similar amount of information (photons) is collected from each fluorophore emissions.\n",
    "\n",
    "Depends on the channel--each set of 50 channels will have a different $k_i$. Could make it depend on the brightnesses."
   ]
  },
  {
   "cell_type": "code",
   "execution_count": 10,
   "metadata": {},
   "outputs": [],
   "source": [
    "def calc_k_strength(i, desired_photons):\n",
    "        A_constant_k = form_matrix_A_wo_k()\n",
    "        illumination_one = A_constant_k[0:50, 0:4]\n",
    "        illumination_two = A_constant_k[50:100, 0:4]\n",
    "        illumination_three = A_constant_k[100:150, 0:4]\n",
    "        illumination_four = A_constant_k[150:200, 0:4]\n",
    "        if 0 <= i < 50: \n",
    "                sliced_average = np.average(illumination_one)\n",
    "                k = 1/(sliced_average) * desired_photons\n",
    "        elif 50 <= i < 100:\n",
    "                sliced_average = np.average(illumination_two)\n",
    "                k = 1/(sliced_average) *desired_photons\n",
    "        elif 100 <= i < 150:\n",
    "                sliced_average = np.average(illumination_three)\n",
    "                k = 1/(sliced_average) * desired_photons\n",
    "        elif 150 <= i < 200:\n",
    "                sliced_average = np.average(illumination_four)\n",
    "                k = 1/(sliced_average) * desired_photons\n",
    "        return k "
   ]
  },
  {
   "cell_type": "code",
   "execution_count": 11,
   "metadata": {},
   "outputs": [
    {
     "data": {
      "text/plain": [
       "3.074088858655248"
      ]
     },
     "execution_count": 11,
     "metadata": {},
     "output_type": "execute_result"
    }
   ],
   "source": [
    "calc_k_strength(10, 100)"
   ]
  },
  {
   "cell_type": "markdown",
   "metadata": {},
   "source": [
    "### Imaging model with $k$ specified"
   ]
  },
  {
   "cell_type": "code",
   "execution_count": 12,
   "metadata": {},
   "outputs": [],
   "source": [
    "def form_k_list(desired_photons):\n",
    "    k_list = []\n",
    "    for i in [0, 50, 100, 150]:\n",
    "        k = calc_k_strength(i, desired_photons)\n",
    "        k_list.append(k)\n",
    "        \n",
    "    return k_list\n",
    "\n",
    "def calc_a_ij(i, j, k_list):\n",
    "    # Replaced line below because it is too computationally intensive\n",
    "    # k = calc_k_strength(i, desired_photons)\n",
    "    if 0 <= i < 50: \n",
    "        k = k_list[0]\n",
    "    elif 50 <= i < 100:\n",
    "        k = k_list[1]\n",
    "    elif 100 <= i < 150:\n",
    "        k = k_list[2]\n",
    "    elif 150 <= i < 200:\n",
    "        k = k_list[3]\n",
    "    brightness_value = calc_brightness(j)\n",
    "    excitation_value = calc_excitation(i, j)\n",
    "    emission_bin_area = calc_emission_bin(i, j)\n",
    "    a_ij = k * brightness_value * excitation_value * emission_bin_area\n",
    "    # print('Matrix A for image channel i = ', i, ' and spectrum j = ', j, 'is ', a)\n",
    "    return a_ij\n",
    "\n",
    "def form_matrix_A(desired_photons):\n",
    "    k_list = form_k_list(desired_photons)\n",
    "    A = np.zeros((200, 4))\n",
    "    for j in range(0, 4):\n",
    "        for i in range(0, 200):\n",
    "            A[i, j] = calc_a_ij(i, j, k_list)\n",
    "    return A"
   ]
  },
  {
   "cell_type": "code",
   "execution_count": 13,
   "metadata": {},
   "outputs": [],
   "source": [
    "def calc_A_for_varying_photons(desired_photons_list):\n",
    "    # Input: list of average detected photons desired\n",
    "    # Output: list of corresponding A matrices\n",
    "    matrix_A_list = []\n",
    "    for desired_photons in desired_photons_list:\n",
    "        A = form_matrix_A(desired_photons)\n",
    "        matrix_A_list.append(A)\n",
    "\n",
    "    return matrix_A_list"
   ]
  },
  {
   "cell_type": "markdown",
   "metadata": {},
   "source": [
    "### Create a vector consisting of some concentration of each fluorophore\n",
    "The concentrations don't have to all be the same. Modeling our imaging system -- using one of each fluorophore in this example. Each index corresponds to a fluorophore"
   ]
  },
  {
   "cell_type": "code",
   "execution_count": 14,
   "metadata": {},
   "outputs": [],
   "source": [
    "x = [1, 1, 1, 1] ##might have to switch orientation if error (transpose)"
   ]
  },
  {
   "cell_type": "markdown",
   "metadata": {},
   "source": [
    "### Function to calculate FOM from $A$ and $x$ \n",
    "1. Multiplying Matrix A by Vector x (calculating the measurements of y using imaging model)\n",
    "2. Transposing A using simple command '.T'\n",
    "3. Creating diagonal matrix of 1/y\n",
    "4. Multiply all three matrices and compute the fisher information matrix\n",
    "5. Inversing the fisher information matrix. \n",
    "6. Take out all the diagonal elements in the fisher information matrix (these are the CRLB numbers).\n",
    "7. Square root all the CRLB numbers.\n",
    "8. Divide the fluorophore concentrations by the square-rooted CRLB numbers (would have to change code if don't use 1 for each concentration)"
   ]
  },
  {
   "cell_type": "markdown",
   "metadata": {},
   "source": [
    "If you inverse the fisher information matrix and multiply it by the initial fisher information matrix, should get a diagonal matrix of all 1's on the diagonal (and the rest of the elements should be 0. Ours are very small numbers that would round to zero).\n",
    "\n",
    "i.e. (idk = FIM_inverse @ FIM) should result in that"
   ]
  },
  {
   "cell_type": "code",
   "execution_count": 15,
   "metadata": {},
   "outputs": [],
   "source": [
    "def calc_FOM(A, x):\n",
    "    y = A @ x \n",
    "    y_reshaped = np.reshape(y, (200, 1))\n",
    "    transposed_A = A.T\n",
    "    FIM_y = 1/y\n",
    "    FIM_y[FIM_y == np.inf] = 0\n",
    "    diagonal_matrix = np.diag(FIM_y)\n",
    "    FIM = transposed_A @ diagonal_matrix @ A\n",
    "    FIM_inverse = np.linalg.inv(FIM)\n",
    "    CRLB_0 = FIM_inverse[0,0] \n",
    "    CRLB_1 = FIM_inverse[1,1]\n",
    "    CRLB_2 = FIM_inverse[2,2]\n",
    "    CRLB_3 = FIM_inverse[3,3]\n",
    "    CRLB_list = [CRLB_0, CRLB_1, CRLB_2, CRLB_3]\n",
    "    sqrt_CRLB_list = np.sqrt(CRLB_list)\n",
    "    FOM_list = [1/i for i in sqrt_CRLB_list] #would have to change this line of code if don't use 1 for each concentration\n",
    "    \n",
    "    return FOM_list\n"
   ]
  },
  {
   "cell_type": "markdown",
   "metadata": {},
   "source": [
    "### Forming our imaging models based on the number of detected photons\n",
    "\n",
    "Using time function to check how long each process takes to run"
   ]
  },
  {
   "cell_type": "code",
   "execution_count": 16,
   "metadata": {},
   "outputs": [
    {
     "name": "stdout",
     "output_type": "stream",
     "text": [
      "List of k values: [3.074088858655248, 3.6033137275011144, 7.545179827867669, 49.76988898702494]\n",
      "a: 0.0\n",
      "Execution time: 2.7504451274871826 seconds\n"
     ]
    }
   ],
   "source": [
    "import time\n",
    "\n",
    "st = time.time()\n",
    "\n",
    "k_list = form_k_list(100)\n",
    "print(f\"List of k values: {k_list}\")\n",
    "a = calc_a_ij(0, 0, k_list)\n",
    "print(f\"a: {a}\")\n",
    "\n",
    "et = time.time()\n",
    "elapsed_time = et - st\n",
    "print('Execution time:', elapsed_time, 'seconds')\n"
   ]
  },
  {
   "cell_type": "code",
   "execution_count": 17,
   "metadata": {},
   "outputs": [
    {
     "name": "stdout",
     "output_type": "stream",
     "text": [
      "Execution time: 10.178176641464233 seconds\n"
     ]
    }
   ],
   "source": [
    "st = time.time()\n",
    "\n",
    "A_list = calc_A_for_varying_photons([100, 200, 300])\n",
    "\n",
    "et = time.time()\n",
    "elapsed_time = et - st\n",
    "print('Execution time:', elapsed_time, 'seconds')\n"
   ]
  },
  {
   "cell_type": "markdown",
   "metadata": {},
   "source": [
    "### Calculating the average number of detected photons\n",
    "Checking if the number of photons matches what we would expect"
   ]
  },
  {
   "cell_type": "code",
   "execution_count": 18,
   "metadata": {},
   "outputs": [],
   "source": [
    "def calc_avg_detected_photons(A):\n",
    "    avg_photons_detected_list = []\n",
    "    for illum_count in range(4):\n",
    "        # start = 50 * illum_count\n",
    "        # end = 50 * (illum_count + 1)\n",
    "        # print(f\"Start row: {start}, End row: {end}\")\n",
    "        A_section = A[50 * illum_count : 50 * (illum_count + 1), :]\n",
    "        avg_photons_detected = np.average(A_section)\n",
    "        avg_photons_detected_list.append(avg_photons_detected)\n",
    "\n",
    "    return avg_photons_detected_list"
   ]
  },
  {
   "cell_type": "code",
   "execution_count": 19,
   "metadata": {},
   "outputs": [
    {
     "data": {
      "text/plain": [
       "[0.005, 0.005000000000000002, 0.005, 0.005]"
      ]
     },
     "execution_count": 19,
     "metadata": {},
     "output_type": "execute_result"
    }
   ],
   "source": [
    "A = form_matrix_A(200)\n",
    "calc_avg_detected_photons(A)"
   ]
  },
  {
   "cell_type": "code",
   "execution_count": null,
   "metadata": {},
   "outputs": [],
   "source": []
  }
 ],
 "metadata": {
  "kernelspec": {
   "display_name": "Python 3.8.8 ('base')",
   "language": "python",
   "name": "python3"
  },
  "language_info": {
   "codemirror_mode": {
    "name": "ipython",
    "version": 3
   },
   "file_extension": ".py",
   "mimetype": "text/x-python",
   "name": "python",
   "nbconvert_exporter": "python",
   "pygments_lexer": "ipython3",
   "version": "3.8.8"
  },
  "orig_nbformat": 4,
  "vscode": {
   "interpreter": {
    "hash": "adf6e16edf1b77d6b92309181b1c4cc70ded90e5e0b47511b11f07b7b421dafb"
   }
  }
 },
 "nbformat": 4,
 "nbformat_minor": 2
}
