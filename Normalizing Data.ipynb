{
 "cells": [
  {
   "cell_type": "code",
   "execution_count": 1,
   "id": "85ec737a",
   "metadata": {},
   "outputs": [],
   "source": [
    "import pandas as pd\n",
    "import os \n",
    "import matplotlib.pyplot as plt #allows us to set axis \n",
    "import numpy as np #???"
   ]
  },
  {
   "cell_type": "code",
   "execution_count": 2,
   "id": "1d97b8e9",
   "metadata": {},
   "outputs": [
    {
     "data": {
      "text/plain": [
       "['mTagBFP2_fpbase_spectra.csv',\n",
       " 'mEmerald_fpbase_spectra.csv',\n",
       " 'mCherry_fpbase_spectra.csv',\n",
       " 'Normalizing Data from Patrick.ipynb',\n",
       " '.ipynb_checkpoints',\n",
       " 'mNeptune2p5_fbpase_spectra.csv']"
      ]
     },
     "execution_count": 2,
     "metadata": {},
     "output_type": "execute_result"
    }
   ],
   "source": [
    "os.listdir() ##shows all files in folder"
   ]
  },
  {
   "cell_type": "code",
   "execution_count": null,
   "id": "e9a1549b",
   "metadata": {},
   "outputs": [],
   "source": []
  },
  {
   "cell_type": "code",
   "execution_count": null,
   "id": "b01e264d",
   "metadata": {},
   "outputs": [],
   "source": []
  },
  {
   "cell_type": "code",
   "execution_count": 3,
   "id": "d90ee3c1",
   "metadata": {},
   "outputs": [],
   "source": [
    "###'mEmerald_fpbase_spectra.csv' protein file"
   ]
  },
  {
   "cell_type": "code",
   "execution_count": 4,
   "id": "01c5b73a",
   "metadata": {},
   "outputs": [],
   "source": [
    "data = pd.read_csv('mEmerald_fpbase_spectra.csv') ##reads in csv file "
   ]
  },
  {
   "cell_type": "code",
   "execution_count": 5,
   "id": "fee20d79",
   "metadata": {},
   "outputs": [],
   "source": [
    "data.fillna(0, inplace = True) ##fills all NaN to 0. set inplace to false if u don't want it to change permanently? \n",
    "#use the name u gave to file above to do this "
   ]
  },
  {
   "cell_type": "code",
   "execution_count": 6,
   "id": "a6f01c35",
   "metadata": {},
   "outputs": [
    {
     "data": {
      "text/html": [
       "<div>\n",
       "<style scoped>\n",
       "    .dataframe tbody tr th:only-of-type {\n",
       "        vertical-align: middle;\n",
       "    }\n",
       "\n",
       "    .dataframe tbody tr th {\n",
       "        vertical-align: top;\n",
       "    }\n",
       "\n",
       "    .dataframe thead th {\n",
       "        text-align: right;\n",
       "    }\n",
       "</style>\n",
       "<table border=\"1\" class=\"dataframe\">\n",
       "  <thead>\n",
       "    <tr style=\"text-align: right;\">\n",
       "      <th></th>\n",
       "      <th>wavelength</th>\n",
       "      <th>mEmerald ex</th>\n",
       "      <th>mEmerald em</th>\n",
       "    </tr>\n",
       "  </thead>\n",
       "  <tbody>\n",
       "    <tr>\n",
       "      <th>0</th>\n",
       "      <td>300</td>\n",
       "      <td>0.0962</td>\n",
       "      <td>0.0000</td>\n",
       "    </tr>\n",
       "    <tr>\n",
       "      <th>1</th>\n",
       "      <td>301</td>\n",
       "      <td>0.0872</td>\n",
       "      <td>0.0000</td>\n",
       "    </tr>\n",
       "    <tr>\n",
       "      <th>2</th>\n",
       "      <td>302</td>\n",
       "      <td>0.0801</td>\n",
       "      <td>0.0000</td>\n",
       "    </tr>\n",
       "    <tr>\n",
       "      <th>3</th>\n",
       "      <td>303</td>\n",
       "      <td>0.0739</td>\n",
       "      <td>0.0000</td>\n",
       "    </tr>\n",
       "    <tr>\n",
       "      <th>4</th>\n",
       "      <td>304</td>\n",
       "      <td>0.0675</td>\n",
       "      <td>0.0000</td>\n",
       "    </tr>\n",
       "    <tr>\n",
       "      <th>...</th>\n",
       "      <td>...</td>\n",
       "      <td>...</td>\n",
       "      <td>...</td>\n",
       "    </tr>\n",
       "    <tr>\n",
       "      <th>396</th>\n",
       "      <td>696</td>\n",
       "      <td>0.0021</td>\n",
       "      <td>0.0064</td>\n",
       "    </tr>\n",
       "    <tr>\n",
       "      <th>397</th>\n",
       "      <td>697</td>\n",
       "      <td>0.0022</td>\n",
       "      <td>0.0067</td>\n",
       "    </tr>\n",
       "    <tr>\n",
       "      <th>398</th>\n",
       "      <td>698</td>\n",
       "      <td>0.0023</td>\n",
       "      <td>0.0068</td>\n",
       "    </tr>\n",
       "    <tr>\n",
       "      <th>399</th>\n",
       "      <td>699</td>\n",
       "      <td>0.0022</td>\n",
       "      <td>0.0064</td>\n",
       "    </tr>\n",
       "    <tr>\n",
       "      <th>400</th>\n",
       "      <td>700</td>\n",
       "      <td>0.0017</td>\n",
       "      <td>0.0064</td>\n",
       "    </tr>\n",
       "  </tbody>\n",
       "</table>\n",
       "<p>401 rows × 3 columns</p>\n",
       "</div>"
      ],
      "text/plain": [
       "     wavelength  mEmerald ex  mEmerald em\n",
       "0           300       0.0962       0.0000\n",
       "1           301       0.0872       0.0000\n",
       "2           302       0.0801       0.0000\n",
       "3           303       0.0739       0.0000\n",
       "4           304       0.0675       0.0000\n",
       "..          ...          ...          ...\n",
       "396         696       0.0021       0.0064\n",
       "397         697       0.0022       0.0067\n",
       "398         698       0.0023       0.0068\n",
       "399         699       0.0022       0.0064\n",
       "400         700       0.0017       0.0064\n",
       "\n",
       "[401 rows x 3 columns]"
      ]
     },
     "execution_count": 6,
     "metadata": {},
     "output_type": "execute_result"
    }
   ],
   "source": [
    "data ##shows updates"
   ]
  },
  {
   "cell_type": "code",
   "execution_count": 7,
   "id": "1b3b7792",
   "metadata": {},
   "outputs": [
    {
     "data": {
      "text/plain": [
       "<AxesSubplot:xlabel='wavelength'>"
      ]
     },
     "execution_count": 7,
     "metadata": {},
     "output_type": "execute_result"
    },
    {
     "data": {
      "image/png": "[encoded data removed]",
      "text/plain": [
       "<Figure size 432x288 with 1 Axes>"
      ]
     },
     "metadata": {
      "needs_background": "light"
     },
     "output_type": "display_data"
    }
   ],
   "source": [
    "data.plot(x='wavelength', y=['mEmerald ex', 'mEmerald em'])"
   ]
  },
  {
   "cell_type": "code",
   "execution_count": 8,
   "id": "e1f3f554",
   "metadata": {},
   "outputs": [
    {
     "data": {
      "text/plain": [
       "Index(['wavelength', 'mEmerald ex', 'mEmerald em'], dtype='object')"
      ]
     },
     "execution_count": 8,
     "metadata": {},
     "output_type": "execute_result"
    }
   ],
   "source": [
    "data.columns"
   ]
  },
  {
   "cell_type": "code",
   "execution_count": 9,
   "id": "e27eaa76",
   "metadata": {},
   "outputs": [],
   "source": [
    "column_data_em = data['mEmerald em'].to_numpy() \n",
    "#converted panda to numpy bc numpy is useful for math. use axis names not file name"
   ]
  },
  {
   "cell_type": "code",
   "execution_count": 10,
   "id": "0d9a7aa9",
   "metadata": {},
   "outputs": [
    {
     "data": {
      "text/plain": [
       "44.002700000000004"
      ]
     },
     "execution_count": 10,
     "metadata": {},
     "output_type": "execute_result"
    }
   ],
   "source": [
    "np.sum(column_data_em) ##area under the curve"
   ]
  },
  {
   "cell_type": "code",
   "execution_count": 11,
   "id": "bcbc54e3",
   "metadata": {},
   "outputs": [],
   "source": [
    "area_em = np.trapz(column_data_em, dx = 1) #dx depends on increments b/w wavelengths (mine is 1 bc goes 300,301,etc)\n",
    "#area"
   ]
  },
  {
   "cell_type": "code",
   "execution_count": 12,
   "id": "ff49823d",
   "metadata": {},
   "outputs": [
    {
     "data": {
      "text/plain": [
       "1.000072728099183"
      ]
     },
     "execution_count": 12,
     "metadata": {},
     "output_type": "execute_result"
    }
   ],
   "source": [
    "new_emcolumn = column_data_em/area_em\n",
    "np.sum(new_emcolumn) #check it goes to 1"
   ]
  },
  {
   "cell_type": "code",
   "execution_count": 13,
   "id": "9d7f913a",
   "metadata": {},
   "outputs": [],
   "source": [
    "column_data_ex = data['mEmerald ex'].to_numpy()"
   ]
  },
  {
   "cell_type": "code",
   "execution_count": 14,
   "id": "9c8bfb01",
   "metadata": {},
   "outputs": [
    {
     "data": {
      "text/plain": [
       "67.2096"
      ]
     },
     "execution_count": 14,
     "metadata": {},
     "output_type": "execute_result"
    }
   ],
   "source": [
    "np.sum(column_data_ex) ##area under the curve"
   ]
  },
  {
   "cell_type": "code",
   "execution_count": 15,
   "id": "c13aeed6",
   "metadata": {},
   "outputs": [],
   "source": [
    "area_ex = np.trapz(column_data_ex, dx = 1) ##set area as a variable"
   ]
  },
  {
   "cell_type": "code",
   "execution_count": 16,
   "id": "9ba6107e",
   "metadata": {},
   "outputs": [
    {
     "data": {
      "text/plain": [
       "1.0007288494080981"
      ]
     },
     "execution_count": 16,
     "metadata": {},
     "output_type": "execute_result"
    }
   ],
   "source": [
    "new_excolumn = column_data_ex/area_ex\n",
    "np.sum(new_excolumn) "
   ]
  },
  {
   "cell_type": "code",
   "execution_count": 17,
   "id": "dd10c5f5",
   "metadata": {},
   "outputs": [],
   "source": [
    "wavelength = data['wavelength'].to_numpy() "
   ]
  },
  {
   "cell_type": "code",
   "execution_count": 69,
   "id": "bb124131",
   "metadata": {},
   "outputs": [
    {
     "data": {
      "text/plain": [
       "<matplotlib.legend.Legend at 0x7fa0594a2310>"
      ]
     },
     "execution_count": 69,
     "metadata": {},
     "output_type": "execute_result"
    },
    {
     "data": {
      "image/png": "[encoded data removed]",
      "text/plain": [
       "<Figure size 432x288 with 1 Axes>"
      ]
     },
     "metadata": {
      "needs_background": "light"
     },
     "output_type": "display_data"
    }
   ],
   "source": [
    "plt.plot(wavelength, new_excolumn, label = \"Normalized mEmeraldEx\")\n",
    "plt.plot(wavelength, new_emcolumn, label = \"Normalized mEmeraldEm\")\n",
    "plt.xlabel('Wavelength (nm)')\n",
    "plt.legend() ##plots with labels (legends)"
   ]
  },
  {
   "cell_type": "code",
   "execution_count": null,
   "id": "495b61da",
   "metadata": {},
   "outputs": [],
   "source": []
  },
  {
   "cell_type": "code",
   "execution_count": null,
   "id": "e28e3e68",
   "metadata": {},
   "outputs": [],
   "source": []
  },
  {
   "cell_type": "code",
   "execution_count": null,
   "id": "52390a88",
   "metadata": {},
   "outputs": [],
   "source": []
  },
  {
   "cell_type": "code",
   "execution_count": 19,
   "id": "5072013c",
   "metadata": {},
   "outputs": [],
   "source": [
    "###'mTagBFP2_fpbase_spectra.csv' protein file"
   ]
  },
  {
   "cell_type": "code",
   "execution_count": 20,
   "id": "5abf42e8",
   "metadata": {},
   "outputs": [],
   "source": [
    "data_two = pd.read_csv('mTagBFP2_fpbase_spectra.csv')"
   ]
  },
  {
   "cell_type": "code",
   "execution_count": 21,
   "id": "b1b62f2a",
   "metadata": {},
   "outputs": [
    {
     "data": {
      "text/html": [
       "<div>\n",
       "<style scoped>\n",
       "    .dataframe tbody tr th:only-of-type {\n",
       "        vertical-align: middle;\n",
       "    }\n",
       "\n",
       "    .dataframe tbody tr th {\n",
       "        vertical-align: top;\n",
       "    }\n",
       "\n",
       "    .dataframe thead th {\n",
       "        text-align: right;\n",
       "    }\n",
       "</style>\n",
       "<table border=\"1\" class=\"dataframe\">\n",
       "  <thead>\n",
       "    <tr style=\"text-align: right;\">\n",
       "      <th></th>\n",
       "      <th>wavelength</th>\n",
       "      <th>mTagBFP2 ex</th>\n",
       "      <th>mTagBFP2 em</th>\n",
       "    </tr>\n",
       "  </thead>\n",
       "  <tbody>\n",
       "    <tr>\n",
       "      <th>0</th>\n",
       "      <td>310</td>\n",
       "      <td>0.0205</td>\n",
       "      <td>0.0000</td>\n",
       "    </tr>\n",
       "    <tr>\n",
       "      <th>1</th>\n",
       "      <td>311</td>\n",
       "      <td>0.0203</td>\n",
       "      <td>0.0000</td>\n",
       "    </tr>\n",
       "    <tr>\n",
       "      <th>2</th>\n",
       "      <td>312</td>\n",
       "      <td>0.0200</td>\n",
       "      <td>0.0000</td>\n",
       "    </tr>\n",
       "    <tr>\n",
       "      <th>3</th>\n",
       "      <td>313</td>\n",
       "      <td>0.0195</td>\n",
       "      <td>0.0000</td>\n",
       "    </tr>\n",
       "    <tr>\n",
       "      <th>4</th>\n",
       "      <td>314</td>\n",
       "      <td>0.0189</td>\n",
       "      <td>0.0000</td>\n",
       "    </tr>\n",
       "    <tr>\n",
       "      <th>...</th>\n",
       "      <td>...</td>\n",
       "      <td>...</td>\n",
       "      <td>...</td>\n",
       "    </tr>\n",
       "    <tr>\n",
       "      <th>336</th>\n",
       "      <td>646</td>\n",
       "      <td>0.0000</td>\n",
       "      <td>0.0015</td>\n",
       "    </tr>\n",
       "    <tr>\n",
       "      <th>337</th>\n",
       "      <td>647</td>\n",
       "      <td>0.0000</td>\n",
       "      <td>0.0014</td>\n",
       "    </tr>\n",
       "    <tr>\n",
       "      <th>338</th>\n",
       "      <td>648</td>\n",
       "      <td>0.0000</td>\n",
       "      <td>0.0014</td>\n",
       "    </tr>\n",
       "    <tr>\n",
       "      <th>339</th>\n",
       "      <td>649</td>\n",
       "      <td>0.0000</td>\n",
       "      <td>0.0013</td>\n",
       "    </tr>\n",
       "    <tr>\n",
       "      <th>340</th>\n",
       "      <td>650</td>\n",
       "      <td>0.0000</td>\n",
       "      <td>0.0013</td>\n",
       "    </tr>\n",
       "  </tbody>\n",
       "</table>\n",
       "<p>341 rows × 3 columns</p>\n",
       "</div>"
      ],
      "text/plain": [
       "     wavelength  mTagBFP2 ex  mTagBFP2 em\n",
       "0           310       0.0205       0.0000\n",
       "1           311       0.0203       0.0000\n",
       "2           312       0.0200       0.0000\n",
       "3           313       0.0195       0.0000\n",
       "4           314       0.0189       0.0000\n",
       "..          ...          ...          ...\n",
       "336         646       0.0000       0.0015\n",
       "337         647       0.0000       0.0014\n",
       "338         648       0.0000       0.0014\n",
       "339         649       0.0000       0.0013\n",
       "340         650       0.0000       0.0013\n",
       "\n",
       "[341 rows x 3 columns]"
      ]
     },
     "execution_count": 21,
     "metadata": {},
     "output_type": "execute_result"
    }
   ],
   "source": [
    "data_two.fillna(0, inplace = True)\n",
    "data_two"
   ]
  },
  {
   "cell_type": "code",
   "execution_count": 22,
   "id": "28eab1c7",
   "metadata": {},
   "outputs": [
    {
     "data": {
      "text/plain": [
       "<AxesSubplot:xlabel='wavelength'>"
      ]
     },
     "execution_count": 22,
     "metadata": {},
     "output_type": "execute_result"
    },
    {
     "data": {
      "image/png": "[encoded data removed]",
      "text/plain": [
       "<Figure size 432x288 with 1 Axes>"
      ]
     },
     "metadata": {
      "needs_background": "light"
     },
     "output_type": "display_data"
    }
   ],
   "source": [
    "data_two.plot(x='wavelength', y=['mTagBFP2 ex', 'mTagBFP2 em'])"
   ]
  },
  {
   "cell_type": "code",
   "execution_count": 23,
   "id": "7310b344",
   "metadata": {},
   "outputs": [],
   "source": [
    "column_data_mTagBFP2ex = data_two['mTagBFP2 ex'].to_numpy() "
   ]
  },
  {
   "cell_type": "code",
   "execution_count": 24,
   "id": "dbdd9f8a",
   "metadata": {},
   "outputs": [
    {
     "data": {
      "text/plain": [
       "50.8797"
      ]
     },
     "execution_count": 24,
     "metadata": {},
     "output_type": "execute_result"
    }
   ],
   "source": [
    "np.sum(column_data_mTagBFP2ex)"
   ]
  },
  {
   "cell_type": "code",
   "execution_count": 25,
   "id": "0638bcbb",
   "metadata": {},
   "outputs": [],
   "source": [
    "area_mTagBFP2ex = np.trapz(column_data_mTagBFP2ex, dx = 1)"
   ]
  },
  {
   "cell_type": "code",
   "execution_count": 26,
   "id": "44274c01",
   "metadata": {},
   "outputs": [
    {
     "data": {
      "text/plain": [
       "1.000201496182876"
      ]
     },
     "execution_count": 26,
     "metadata": {},
     "output_type": "execute_result"
    }
   ],
   "source": [
    "new_mTagBFP2ex_column = column_data_mTagBFP2ex/area_mTagBFP2ex\n",
    "np.sum(new_mTagBFP2ex_column)"
   ]
  },
  {
   "cell_type": "code",
   "execution_count": 27,
   "id": "87de286b",
   "metadata": {},
   "outputs": [
    {
     "data": {
      "text/plain": [
       "57.23910000000001"
      ]
     },
     "execution_count": 27,
     "metadata": {},
     "output_type": "execute_result"
    }
   ],
   "source": [
    "column_data_mTagBFP2em = data_two['mTagBFP2 em'].to_numpy() \n",
    "np.sum(column_data_mTagBFP2em)"
   ]
  },
  {
   "cell_type": "code",
   "execution_count": 28,
   "id": "99d30a18",
   "metadata": {},
   "outputs": [],
   "source": [
    "area_mTagBFP2em = np.trapz(column_data_mTagBFP2em, dx = 1)"
   ]
  },
  {
   "cell_type": "code",
   "execution_count": 29,
   "id": "9fe80d38",
   "metadata": {},
   "outputs": [
    {
     "data": {
      "text/plain": [
       "1.0000113560028268"
      ]
     },
     "execution_count": 29,
     "metadata": {},
     "output_type": "execute_result"
    }
   ],
   "source": [
    "new_mTagBFP2em_column = column_data_mTagBFP2em/area_mTagBFP2em\n",
    "np.sum(new_mTagBFP2em_column)"
   ]
  },
  {
   "cell_type": "code",
   "execution_count": 30,
   "id": "c7e5b4d4",
   "metadata": {},
   "outputs": [],
   "source": [
    "wavelength_two = data_two['wavelength'].to_numpy() "
   ]
  },
  {
   "cell_type": "code",
   "execution_count": 68,
   "id": "48cae4b3",
   "metadata": {},
   "outputs": [
    {
     "data": {
      "text/plain": [
       "<matplotlib.legend.Legend at 0x7fa06b661730>"
      ]
     },
     "execution_count": 68,
     "metadata": {},
     "output_type": "execute_result"
    },
    {
     "data": {
      "image/png": "[encoded data removed]",
      "text/plain": [
       "<Figure size 432x288 with 1 Axes>"
      ]
     },
     "metadata": {
      "needs_background": "light"
     },
     "output_type": "display_data"
    }
   ],
   "source": [
    "plt.plot(wavelength_two, new_mTagBFP2ex_column, label = \"Normalized mTagBFP2ex\")\n",
    "plt.plot(wavelength_two, new_mTagBFP2em_column, label = \"Normalized mTagBFP2em\")\n",
    "plt.xlabel('Wavelength (nm)')\n",
    "plt.legend()"
   ]
  },
  {
   "cell_type": "code",
   "execution_count": 32,
   "id": "517bb26e",
   "metadata": {},
   "outputs": [],
   "source": [
    "#np.sum(column_datatwo) #shows area under curve. want it to be one not 67. can only use this command if dx == 1"
   ]
  },
  {
   "cell_type": "code",
   "execution_count": 33,
   "id": "745657bb",
   "metadata": {},
   "outputs": [],
   "source": [
    "#dx depends on increments b/w wavelengths (mine is 1 bc goes 300,301,etc) area"
   ]
  },
  {
   "cell_type": "code",
   "execution_count": null,
   "id": "964d704f",
   "metadata": {},
   "outputs": [],
   "source": []
  },
  {
   "cell_type": "code",
   "execution_count": null,
   "id": "b390d359",
   "metadata": {},
   "outputs": [],
   "source": []
  },
  {
   "cell_type": "code",
   "execution_count": 34,
   "id": "650208a0",
   "metadata": {},
   "outputs": [],
   "source": [
    "###'mCherry_fpbase_spectra.csv' protein file"
   ]
  },
  {
   "cell_type": "code",
   "execution_count": 35,
   "id": "09186f8c",
   "metadata": {},
   "outputs": [],
   "source": [
    "data_three = pd.read_csv('mCherry_fpbase_spectra.csv')"
   ]
  },
  {
   "cell_type": "code",
   "execution_count": 36,
   "id": "46082b77",
   "metadata": {},
   "outputs": [
    {
     "data": {
      "text/html": [
       "<div>\n",
       "<style scoped>\n",
       "    .dataframe tbody tr th:only-of-type {\n",
       "        vertical-align: middle;\n",
       "    }\n",
       "\n",
       "    .dataframe tbody tr th {\n",
       "        vertical-align: top;\n",
       "    }\n",
       "\n",
       "    .dataframe thead th {\n",
       "        text-align: right;\n",
       "    }\n",
       "</style>\n",
       "<table border=\"1\" class=\"dataframe\">\n",
       "  <thead>\n",
       "    <tr style=\"text-align: right;\">\n",
       "      <th></th>\n",
       "      <th>wavelength</th>\n",
       "      <th>mCherry ex</th>\n",
       "      <th>mCherry em</th>\n",
       "      <th>mCherry 2p</th>\n",
       "    </tr>\n",
       "  </thead>\n",
       "  <tbody>\n",
       "    <tr>\n",
       "      <th>0</th>\n",
       "      <td>300</td>\n",
       "      <td>0.1320</td>\n",
       "      <td>0.0</td>\n",
       "      <td>0.0</td>\n",
       "    </tr>\n",
       "    <tr>\n",
       "      <th>1</th>\n",
       "      <td>301</td>\n",
       "      <td>0.1175</td>\n",
       "      <td>0.0</td>\n",
       "      <td>0.0</td>\n",
       "    </tr>\n",
       "    <tr>\n",
       "      <th>2</th>\n",
       "      <td>302</td>\n",
       "      <td>0.1063</td>\n",
       "      <td>0.0</td>\n",
       "      <td>0.0</td>\n",
       "    </tr>\n",
       "    <tr>\n",
       "      <th>3</th>\n",
       "      <td>303</td>\n",
       "      <td>0.1037</td>\n",
       "      <td>0.0</td>\n",
       "      <td>0.0</td>\n",
       "    </tr>\n",
       "    <tr>\n",
       "      <th>4</th>\n",
       "      <td>304</td>\n",
       "      <td>0.1302</td>\n",
       "      <td>0.0</td>\n",
       "      <td>0.0</td>\n",
       "    </tr>\n",
       "    <tr>\n",
       "      <th>...</th>\n",
       "      <td>...</td>\n",
       "      <td>...</td>\n",
       "      <td>...</td>\n",
       "      <td>...</td>\n",
       "    </tr>\n",
       "    <tr>\n",
       "      <th>1095</th>\n",
       "      <td>1395</td>\n",
       "      <td>0.0000</td>\n",
       "      <td>0.0</td>\n",
       "      <td>0.0</td>\n",
       "    </tr>\n",
       "    <tr>\n",
       "      <th>1096</th>\n",
       "      <td>1396</td>\n",
       "      <td>0.0000</td>\n",
       "      <td>0.0</td>\n",
       "      <td>0.0</td>\n",
       "    </tr>\n",
       "    <tr>\n",
       "      <th>1097</th>\n",
       "      <td>1397</td>\n",
       "      <td>0.0000</td>\n",
       "      <td>0.0</td>\n",
       "      <td>0.0</td>\n",
       "    </tr>\n",
       "    <tr>\n",
       "      <th>1098</th>\n",
       "      <td>1398</td>\n",
       "      <td>0.0000</td>\n",
       "      <td>0.0</td>\n",
       "      <td>0.0</td>\n",
       "    </tr>\n",
       "    <tr>\n",
       "      <th>1099</th>\n",
       "      <td>1399</td>\n",
       "      <td>0.0000</td>\n",
       "      <td>0.0</td>\n",
       "      <td>0.0</td>\n",
       "    </tr>\n",
       "  </tbody>\n",
       "</table>\n",
       "<p>1100 rows × 4 columns</p>\n",
       "</div>"
      ],
      "text/plain": [
       "      wavelength  mCherry ex  mCherry em  mCherry 2p\n",
       "0            300      0.1320         0.0         0.0\n",
       "1            301      0.1175         0.0         0.0\n",
       "2            302      0.1063         0.0         0.0\n",
       "3            303      0.1037         0.0         0.0\n",
       "4            304      0.1302         0.0         0.0\n",
       "...          ...         ...         ...         ...\n",
       "1095        1395      0.0000         0.0         0.0\n",
       "1096        1396      0.0000         0.0         0.0\n",
       "1097        1397      0.0000         0.0         0.0\n",
       "1098        1398      0.0000         0.0         0.0\n",
       "1099        1399      0.0000         0.0         0.0\n",
       "\n",
       "[1100 rows x 4 columns]"
      ]
     },
     "execution_count": 36,
     "metadata": {},
     "output_type": "execute_result"
    }
   ],
   "source": [
    "data_three.fillna(0, inplace = True)\n",
    "data_three"
   ]
  },
  {
   "cell_type": "code",
   "execution_count": 37,
   "id": "450c5e80",
   "metadata": {},
   "outputs": [
    {
     "data": {
      "text/plain": [
       "<AxesSubplot:xlabel='wavelength'>"
      ]
     },
     "execution_count": 37,
     "metadata": {},
     "output_type": "execute_result"
    },
    {
     "data": {
      "image/png": "[encoded data removed]",
      "text/plain": [
       "<Figure size 432x288 with 1 Axes>"
      ]
     },
     "metadata": {
      "needs_background": "light"
     },
     "output_type": "display_data"
    }
   ],
   "source": [
    "data_three.plot(x='wavelength', y=['mCherry ex', 'mCherry em', 'mCherry 2p'])"
   ]
  },
  {
   "cell_type": "code",
   "execution_count": 38,
   "id": "5da0eac8",
   "metadata": {},
   "outputs": [],
   "source": [
    "column_data_mCherryex = data_three['mCherry ex'].to_numpy() "
   ]
  },
  {
   "cell_type": "code",
   "execution_count": 39,
   "id": "d17062b0",
   "metadata": {},
   "outputs": [
    {
     "data": {
      "text/plain": [
       "76.66149999999999"
      ]
     },
     "execution_count": 39,
     "metadata": {},
     "output_type": "execute_result"
    }
   ],
   "source": [
    "np.sum(column_data_mCherryex)"
   ]
  },
  {
   "cell_type": "code",
   "execution_count": 40,
   "id": "586a8b7f",
   "metadata": {},
   "outputs": [],
   "source": [
    "area_mCherryex = np.trapz(column_data_mCherryex, dx = 1)"
   ]
  },
  {
   "cell_type": "code",
   "execution_count": 41,
   "id": "47c344fe",
   "metadata": {},
   "outputs": [
    {
     "data": {
      "text/plain": [
       "1.0008616694192218"
      ]
     },
     "execution_count": 41,
     "metadata": {},
     "output_type": "execute_result"
    }
   ],
   "source": [
    "new_mCherryex_column = column_data_mCherryex/area_mCherryex\n",
    "np.sum(new_mCherryex_column)"
   ]
  },
  {
   "cell_type": "code",
   "execution_count": 42,
   "id": "c1b4f2cb",
   "metadata": {},
   "outputs": [],
   "source": [
    "column_data_mCherryem = data_three['mCherry em'].to_numpy() "
   ]
  },
  {
   "cell_type": "code",
   "execution_count": 43,
   "id": "6280c871",
   "metadata": {},
   "outputs": [
    {
     "data": {
      "text/plain": [
       "70.58109999999998"
      ]
     },
     "execution_count": 43,
     "metadata": {},
     "output_type": "execute_result"
    }
   ],
   "source": [
    "np.sum(column_data_mCherryem)"
   ]
  },
  {
   "cell_type": "code",
   "execution_count": 44,
   "id": "9a573311",
   "metadata": {},
   "outputs": [],
   "source": [
    "area_mCherryem = np.trapz(column_data_mCherryem, dx = 1)"
   ]
  },
  {
   "cell_type": "code",
   "execution_count": 45,
   "id": "b9f69efd",
   "metadata": {},
   "outputs": [
    {
     "data": {
      "text/plain": [
       "1.0000000000000002"
      ]
     },
     "execution_count": 45,
     "metadata": {},
     "output_type": "execute_result"
    }
   ],
   "source": [
    "new_mCherryem_column = column_data_mCherryem/area_mCherryem\n",
    "np.sum(new_mCherryem_column)"
   ]
  },
  {
   "cell_type": "code",
   "execution_count": 46,
   "id": "09426f30",
   "metadata": {},
   "outputs": [],
   "source": [
    "column_data_mCherry2p = data_three['mCherry 2p'].to_numpy() "
   ]
  },
  {
   "cell_type": "code",
   "execution_count": 47,
   "id": "6b10a1a4",
   "metadata": {},
   "outputs": [
    {
     "data": {
      "text/plain": [
       "285.8539"
      ]
     },
     "execution_count": 47,
     "metadata": {},
     "output_type": "execute_result"
    }
   ],
   "source": [
    "np.sum(column_data_mCherry2p)"
   ]
  },
  {
   "cell_type": "code",
   "execution_count": 48,
   "id": "7693e500",
   "metadata": {},
   "outputs": [],
   "source": [
    "area_mCherry2p = np.trapz(column_data_mCherry2p, dx = 1)"
   ]
  },
  {
   "cell_type": "code",
   "execution_count": 49,
   "id": "7685882f",
   "metadata": {},
   "outputs": [
    {
     "data": {
      "text/plain": [
       "1.0"
      ]
     },
     "execution_count": 49,
     "metadata": {},
     "output_type": "execute_result"
    }
   ],
   "source": [
    "new_mCherry2p_column = column_data_mCherry2p/area_mCherry2p\n",
    "np.sum(new_mCherry2p_column)"
   ]
  },
  {
   "cell_type": "code",
   "execution_count": 50,
   "id": "ffbeb084",
   "metadata": {},
   "outputs": [],
   "source": [
    "wavelength_three = data_three['wavelength'].to_numpy() "
   ]
  },
  {
   "cell_type": "code",
   "execution_count": 70,
   "id": "1e0e28e0",
   "metadata": {},
   "outputs": [
    {
     "data": {
      "text/plain": [
       "<matplotlib.legend.Legend at 0x7fa06bc8bf70>"
      ]
     },
     "execution_count": 70,
     "metadata": {},
     "output_type": "execute_result"
    },
    {
     "data": {
      "image/png": "[encoded data removed]",
      "text/plain": [
       "<Figure size 432x288 with 1 Axes>"
      ]
     },
     "metadata": {
      "needs_background": "light"
     },
     "output_type": "display_data"
    }
   ],
   "source": [
    "plt.plot(wavelength_three, new_mCherryex_column, label = \"Normalized mCherryex\")\n",
    "plt.plot(wavelength_three, new_mCherryem_column, label = \"Normalized mCherryem\")\n",
    "plt.plot(wavelength_three, new_mCherry2p_column, label = \"Normalized mCherry2p\")\n",
    "plt.xlabel('Wavelength (nm)')\n",
    "plt.savefig('spect1.pdf')\n",
    "plt.legend()"
   ]
  },
  {
   "cell_type": "code",
   "execution_count": null,
   "id": "bf9e609a",
   "metadata": {},
   "outputs": [],
   "source": []
  },
  {
   "cell_type": "code",
   "execution_count": null,
   "id": "01f93af1",
   "metadata": {},
   "outputs": [],
   "source": []
  },
  {
   "cell_type": "code",
   "execution_count": 52,
   "id": "f228f6e9",
   "metadata": {},
   "outputs": [],
   "source": [
    "###'mNeptune2p5_fbpase_spectra.csv' protein file"
   ]
  },
  {
   "cell_type": "code",
   "execution_count": 53,
   "id": "bddbce81",
   "metadata": {},
   "outputs": [],
   "source": [
    "data_four = pd.read_csv('mNeptune2p5_fbpase_spectra.csv')"
   ]
  },
  {
   "cell_type": "code",
   "execution_count": 54,
   "id": "9d5349e2",
   "metadata": {},
   "outputs": [
    {
     "data": {
      "text/html": [
       "<div>\n",
       "<style scoped>\n",
       "    .dataframe tbody tr th:only-of-type {\n",
       "        vertical-align: middle;\n",
       "    }\n",
       "\n",
       "    .dataframe tbody tr th {\n",
       "        vertical-align: top;\n",
       "    }\n",
       "\n",
       "    .dataframe thead th {\n",
       "        text-align: right;\n",
       "    }\n",
       "</style>\n",
       "<table border=\"1\" class=\"dataframe\">\n",
       "  <thead>\n",
       "    <tr style=\"text-align: right;\">\n",
       "      <th></th>\n",
       "      <th>wavelength</th>\n",
       "      <th>mNeptune2.5 ex</th>\n",
       "      <th>mNeptune2.5 em</th>\n",
       "    </tr>\n",
       "  </thead>\n",
       "  <tbody>\n",
       "    <tr>\n",
       "      <th>0</th>\n",
       "      <td>230</td>\n",
       "      <td>0.0011</td>\n",
       "      <td>0.0000</td>\n",
       "    </tr>\n",
       "    <tr>\n",
       "      <th>1</th>\n",
       "      <td>231</td>\n",
       "      <td>0.0004</td>\n",
       "      <td>0.0000</td>\n",
       "    </tr>\n",
       "    <tr>\n",
       "      <th>2</th>\n",
       "      <td>232</td>\n",
       "      <td>0.0007</td>\n",
       "      <td>0.0000</td>\n",
       "    </tr>\n",
       "    <tr>\n",
       "      <th>3</th>\n",
       "      <td>233</td>\n",
       "      <td>0.0004</td>\n",
       "      <td>0.0000</td>\n",
       "    </tr>\n",
       "    <tr>\n",
       "      <th>4</th>\n",
       "      <td>234</td>\n",
       "      <td>0.0004</td>\n",
       "      <td>0.0000</td>\n",
       "    </tr>\n",
       "    <tr>\n",
       "      <th>...</th>\n",
       "      <td>...</td>\n",
       "      <td>...</td>\n",
       "      <td>...</td>\n",
       "    </tr>\n",
       "    <tr>\n",
       "      <th>616</th>\n",
       "      <td>846</td>\n",
       "      <td>0.0000</td>\n",
       "      <td>0.0140</td>\n",
       "    </tr>\n",
       "    <tr>\n",
       "      <th>617</th>\n",
       "      <td>847</td>\n",
       "      <td>0.0000</td>\n",
       "      <td>0.0136</td>\n",
       "    </tr>\n",
       "    <tr>\n",
       "      <th>618</th>\n",
       "      <td>848</td>\n",
       "      <td>0.0000</td>\n",
       "      <td>0.0157</td>\n",
       "    </tr>\n",
       "    <tr>\n",
       "      <th>619</th>\n",
       "      <td>849</td>\n",
       "      <td>0.0000</td>\n",
       "      <td>0.0168</td>\n",
       "    </tr>\n",
       "    <tr>\n",
       "      <th>620</th>\n",
       "      <td>850</td>\n",
       "      <td>0.0000</td>\n",
       "      <td>0.0177</td>\n",
       "    </tr>\n",
       "  </tbody>\n",
       "</table>\n",
       "<p>621 rows × 3 columns</p>\n",
       "</div>"
      ],
      "text/plain": [
       "     wavelength  mNeptune2.5 ex  mNeptune2.5 em\n",
       "0           230          0.0011          0.0000\n",
       "1           231          0.0004          0.0000\n",
       "2           232          0.0007          0.0000\n",
       "3           233          0.0004          0.0000\n",
       "4           234          0.0004          0.0000\n",
       "..          ...             ...             ...\n",
       "616         846          0.0000          0.0140\n",
       "617         847          0.0000          0.0136\n",
       "618         848          0.0000          0.0157\n",
       "619         849          0.0000          0.0168\n",
       "620         850          0.0000          0.0177\n",
       "\n",
       "[621 rows x 3 columns]"
      ]
     },
     "execution_count": 54,
     "metadata": {},
     "output_type": "execute_result"
    }
   ],
   "source": [
    "data_four.fillna(0, inplace = True)\n",
    "data_four"
   ]
  },
  {
   "cell_type": "code",
   "execution_count": 55,
   "id": "72b56e70",
   "metadata": {},
   "outputs": [
    {
     "data": {
      "text/plain": [
       "<AxesSubplot:xlabel='wavelength'>"
      ]
     },
     "execution_count": 55,
     "metadata": {},
     "output_type": "execute_result"
    },
    {
     "data": {
      "image/png": "[encoded data removed]",
      "text/plain": [
       "<Figure size 432x288 with 1 Axes>"
      ]
     },
     "metadata": {
      "needs_background": "light"
     },
     "output_type": "display_data"
    }
   ],
   "source": [
    "data_four.plot(x='wavelength', y=['mNeptune2.5 ex', 'mNeptune2.5 em'])"
   ]
  },
  {
   "cell_type": "code",
   "execution_count": 56,
   "id": "b473cce8",
   "metadata": {},
   "outputs": [],
   "source": [
    "column_data_mNeptuneex = data_four['mNeptune2.5 ex'].to_numpy() "
   ]
  },
  {
   "cell_type": "code",
   "execution_count": 57,
   "id": "5d32d229",
   "metadata": {},
   "outputs": [],
   "source": [
    "area_mNeptuneex = np.trapz(column_data_mNeptuneex, dx = 1)"
   ]
  },
  {
   "cell_type": "code",
   "execution_count": 58,
   "id": "eb605e37",
   "metadata": {},
   "outputs": [
    {
     "data": {
      "text/plain": [
       "1.000006622719903"
      ]
     },
     "execution_count": 58,
     "metadata": {},
     "output_type": "execute_result"
    }
   ],
   "source": [
    "new_mNeptuneex_column = column_data_mNeptuneex/area_mNeptuneex\n",
    "np.sum(new_mNeptuneex_column)"
   ]
  },
  {
   "cell_type": "code",
   "execution_count": 59,
   "id": "674b4108",
   "metadata": {},
   "outputs": [],
   "source": [
    "column_data_mNeptuneem = data_four['mNeptune2.5 em'].to_numpy() "
   ]
  },
  {
   "cell_type": "code",
   "execution_count": 60,
   "id": "7b98506a",
   "metadata": {},
   "outputs": [],
   "source": [
    "area_mNeptuneem = np.trapz(column_data_mNeptuneem, dx = 1)"
   ]
  },
  {
   "cell_type": "code",
   "execution_count": 61,
   "id": "a436ac15",
   "metadata": {},
   "outputs": [
    {
     "data": {
      "text/plain": [
       "1.000098761464281"
      ]
     },
     "execution_count": 61,
     "metadata": {},
     "output_type": "execute_result"
    }
   ],
   "source": [
    "new_mNeptuneem_column = column_data_mNeptuneem/area_mNeptuneem\n",
    "np.sum(new_mNeptuneem_column)"
   ]
  },
  {
   "cell_type": "code",
   "execution_count": 62,
   "id": "f3b54840",
   "metadata": {},
   "outputs": [],
   "source": [
    "wavelength_four = data_four['wavelength'].to_numpy() "
   ]
  },
  {
   "cell_type": "code",
   "execution_count": 67,
   "id": "b7e14c56",
   "metadata": {},
   "outputs": [
    {
     "data": {
      "text/plain": [
       "<matplotlib.legend.Legend at 0x7fa048153b50>"
      ]
     },
     "execution_count": 67,
     "metadata": {},
     "output_type": "execute_result"
    },
    {
     "data": {
      "image/png": "[encoded data removed]",
      "text/plain": [
       "<Figure size 432x288 with 1 Axes>"
      ]
     },
     "metadata": {
      "needs_background": "light"
     },
     "output_type": "display_data"
    }
   ],
   "source": [
    "plt.plot(wavelength_four, new_mNeptuneex_column, label = \"Normalized mNeptune2.5 ex\")\n",
    "plt.plot(wavelength_four, new_mNeptuneem_column, label = \"Normalized mNeptune2.5 em\")\n",
    "plt.xlabel('Wavelength (nm)')\n",
    "plt.legend()"
   ]
  },
  {
   "cell_type": "code",
   "execution_count": 64,
   "id": "9ab29c1e",
   "metadata": {},
   "outputs": [],
   "source": [
    "#plot multiple things \n",
    "#data.plot(x='wavelength', y=['mTagBFP2 ex','mTagBFP2 em'])\n",
    "#plt.ylabel('') -- sets labels for axis \n",
    "#normalizing a function integral\n",
    "#can use esc and then click b to make more In [ ]"
   ]
  }
 ],
 "metadata": {
  "kernelspec": {
   "display_name": "Python 3 (ipykernel)",
   "language": "python",
   "name": "python3"
  },
  "language_info": {
   "codemirror_mode": {
    "name": "ipython",
    "version": 3
   },
   "file_extension": ".py",
   "mimetype": "text/x-python",
   "name": "python",
   "nbconvert_exporter": "python",
   "pygments_lexer": "ipython3",
   "version": "3.9.12"
  }
 },
 "nbformat": 4,
 "nbformat_minor": 5
}
