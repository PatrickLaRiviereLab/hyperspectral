{
 "cells": [
  {
   "cell_type": "code",
   "execution_count": 2,
   "metadata": {},
   "outputs": [],
   "source": [
    "import pandas as pd\n",
    "import numpy as np"
   ]
  },
  {
   "cell_type": "code",
   "execution_count": 3,
   "metadata": {},
   "outputs": [],
   "source": [
    "df_mEmerald = pd.read_csv('mEmerald_fpbase_spectra.csv')\n",
    "df_mEmerald.fillna(0, inplace = True)\n",
    "df_mTagBFP2 = pd.read_csv('mTagBFP2_fpbase_spectra.csv')\n",
    "df_mTagBFP2.fillna(0, inplace = True)\n",
    "df_mCherry = pd.read_csv('mCherry_fpbase_spectra.csv')\n",
    "df_mCherry.fillna(0, inplace = True)\n",
    "df_mNeptune2p5 = pd.read_csv('mNeptune2p5_fbpase_spectra.csv')\n",
    "df_mNeptune2p5.fillna(0, inplace = True)\n",
    "\n",
    "mEmerald_columns = df_mEmerald.rename(columns ={'mEmerald ex': 'excitation', 'mEmerald em': 'emission'})\n",
    "mTagBFP2_columns = df_mTagBFP2.rename(columns ={'mTagBFP2 ex': 'excitation', 'mTagBFP2 em': 'emission'})\n",
    "mCherry_columns = df_mCherry.rename(columns ={'mCherry ex': 'excitation', 'mCherry em': 'emission'})\n",
    "mNeptune2p5_columns = df_mNeptune2p5.rename(columns ={'mNeptune2.5 ex': 'excitation', 'mNeptune2.5 em': 'emission'})\n",
    "\n",
    "spectra_list = [mEmerald_columns, mTagBFP2_columns, mCherry_columns, mNeptune2p5_columns]\n",
    "for j in range(0,4):\n",
    "    excitation_column = spectra_list[j]['excitation']\n",
    "    area = np.trapz(excitation_column, dx = 1)\n",
    "    normalized = excitation_column/area\n",
    "    excitation_column = normalized\n",
    "    spectra_list[j]['excitation'] = normalized\n",
    "    new_area = np.trapz(excitation_column, dx = 1)\n",
    "    column = spectra_list[j]['emission']\n",
    "    area_emission = np.trapz(column, dx = 1)\n",
    "    normalized_em = column/area_emission\n",
    "    column = normalized_em\n",
    "    spectra_list[j]['emission'] = normalized_em\n",
    "    new_area_em = np.trapz(column, dx = 1)"
   ]
  },
  {
   "cell_type": "code",
   "execution_count": 44,
   "metadata": {},
   "outputs": [],
   "source": [
    "j = int(input(\"Insert the number of the protein you would like to view: \"))\n",
    "lambda_min = int(input('Minimum wavelength (0 corresponds to wavelength 310): '))\n",
    "lambda_max = lambda_min + 10\n",
    "sliced_data = spectra_list[j]['emission'][range(lambda_min, lambda_max)]\n",
    "sliced_data\n",
    "emission_bin_area = np.trapz(sliced_data)"
   ]
  },
  {
   "cell_type": "markdown",
   "metadata": {},
   "source": [
    "Now that you have extracted the emission spectra, calculate\n",
    "$$\\int_{\\lambda_{i,\\text{min}}^{em}}^{\\lambda_{i,\\text{max}}^{em}} t_j^{em}(\\lambda) \\,d\\lambda$$\n",
    "for a given $i,j$."
   ]
  },
  {
   "cell_type": "code",
   "execution_count": 118,
   "metadata": {},
   "outputs": [
    {
     "name": "stdout",
     "output_type": "stream",
     "text": [
      "     wavelength  excitation  emission\n",
      "0           310    0.000403  0.000000\n",
      "1           311    0.000399  0.000000\n",
      "2           312    0.000393  0.000000\n",
      "3           313    0.000383  0.000000\n",
      "4           314    0.000372  0.000000\n",
      "..          ...         ...       ...\n",
      "336         646    0.000000  0.000026\n",
      "337         647    0.000000  0.000024\n",
      "338         648    0.000000  0.000024\n",
      "339         649    0.000000  0.000023\n",
      "340         650    0.000000  0.000023\n",
      "\n",
      "[341 rows x 3 columns]\n"
     ]
    }
   ],
   "source": [
    "print(mTagBFP2_columns)"
   ]
  },
  {
   "cell_type": "code",
   "execution_count": 136,
   "metadata": {},
   "outputs": [
    {
     "name": "stdout",
     "output_type": "stream",
     "text": [
      "330    0.000031\n",
      "331    0.000030\n",
      "332    0.000028\n",
      "333    0.000028\n",
      "334    0.000028\n",
      "335    0.000026\n",
      "336    0.000026\n",
      "337    0.000024\n",
      "338    0.000024\n",
      "339    0.000023\n",
      "Name: emission, dtype: float64\n",
      "0.00024197021407812406\n",
      "650\n"
     ]
    }
   ],
   "source": [
    "spectra_list = [mEmerald_columns, mTagBFP2_columns, mCherry_columns, mNeptune2p5_columns]\n",
    "j = 1\n",
    "i = 25 \n",
    "bins_list = [*range(400, 900, 10)] ##bins for one excitation wavelength for one fluorophore \n",
    "lambda_min = 330 #corresponding to index in code ... 330 corresponds to wavelength 640nm\n",
    "lambda_max = lambda_min + 10\n",
    "\n",
    "sliced_data = spectra_list[j]['emission'][range(lambda_min, lambda_max)] ##Accesses the index of the csv file instead of wavelength. Use .loc to fix this instead\n",
    "print(sliced_data)\n",
    "emission_bin_area = np.trapz(sliced_data)\n",
    "print(emission_bin_area)\n",
    "\n",
    "\n",
    "print(bins_list[i])"
   ]
  },
  {
   "cell_type": "markdown",
   "metadata": {},
   "source": [
    "Trying to extract section of dataframe depending on wavelength range"
   ]
  },
  {
   "cell_type": "code",
   "execution_count": 135,
   "metadata": {},
   "outputs": [
    {
     "data": {
      "text/plain": [
       "90    0.000000\n",
       "91    0.000000\n",
       "92    0.000000\n",
       "93    0.000000\n",
       "94    0.000000\n",
       "95    0.000000\n",
       "96    0.000000\n",
       "97    0.000000\n",
       "98    0.000079\n",
       "99    0.000084\n",
       "Name: emission, dtype: float64"
      ]
     },
     "execution_count": 135,
     "metadata": {},
     "output_type": "execute_result"
    }
   ],
   "source": [
    "df_spectra = spectra_list[j]\n",
    "df_spectra.loc[df_spectra['wavelength'] == 400]\n",
    "df_spectra.loc[df_spectra['wavelength'].isin(range(400, 410))]\n",
    "df_spectra.loc[df_spectra['wavelength'].isin(range(400, 410))]['emission'] ##Make the range a variable and fix code above using this instead. \n",
    "# , 'emission']"
   ]
  },
  {
   "cell_type": "code",
   "execution_count": 95,
   "metadata": {},
   "outputs": [
    {
     "name": "stdout",
     "output_type": "stream",
     "text": [
      "400\n"
     ]
    },
    {
     "ename": "KeyError",
     "evalue": "\"None of [Int64Index([400, 401, 402, 403, 404, 405, 406, 407, 408, 409], dtype='int64')] are in the [index]\"",
     "output_type": "error",
     "traceback": [
      "\u001b[0;31m---------------------------------------------------------------------------\u001b[0m",
      "\u001b[0;31mKeyError\u001b[0m                                  Traceback (most recent call last)",
      "\u001b[1;32m/Users/simone/Documents/GitHub/hyperspectral/Emission Bins.ipynb Cell 6\u001b[0m in \u001b[0;36m<cell line: 9>\u001b[0;34m()\u001b[0m\n\u001b[1;32m      <a href='vscode-notebook-cell:/Users/simone/Documents/GitHub/hyperspectral/Emission%20Bins.ipynb#ch0000005?line=6'>7</a>\u001b[0m \u001b[39mprint\u001b[39m(lambda_min)\n\u001b[1;32m      <a href='vscode-notebook-cell:/Users/simone/Documents/GitHub/hyperspectral/Emission%20Bins.ipynb#ch0000005?line=7'>8</a>\u001b[0m lambda_max \u001b[39m=\u001b[39m lambda_min \u001b[39m+\u001b[39m \u001b[39m10\u001b[39m\n\u001b[0;32m----> <a href='vscode-notebook-cell:/Users/simone/Documents/GitHub/hyperspectral/Emission%20Bins.ipynb#ch0000005?line=8'>9</a>\u001b[0m sliced_data \u001b[39m=\u001b[39m spectra_list[j][\u001b[39m'\u001b[39;49m\u001b[39memission\u001b[39;49m\u001b[39m'\u001b[39;49m][\u001b[39mrange\u001b[39;49m(lambda_min, lambda_max)]\n\u001b[1;32m     <a href='vscode-notebook-cell:/Users/simone/Documents/GitHub/hyperspectral/Emission%20Bins.ipynb#ch0000005?line=9'>10</a>\u001b[0m sliced_data\n\u001b[1;32m     <a href='vscode-notebook-cell:/Users/simone/Documents/GitHub/hyperspectral/Emission%20Bins.ipynb#ch0000005?line=10'>11</a>\u001b[0m emission_bin_area \u001b[39m=\u001b[39m np\u001b[39m.\u001b[39mtrapz(sliced_data)\n",
      "File \u001b[0;32m~/opt/anaconda3/lib/python3.9/site-packages/pandas/core/series.py:984\u001b[0m, in \u001b[0;36mSeries.__getitem__\u001b[0;34m(self, key)\u001b[0m\n\u001b[1;32m    981\u001b[0m     key \u001b[39m=\u001b[39m np\u001b[39m.\u001b[39masarray(key, dtype\u001b[39m=\u001b[39m\u001b[39mbool\u001b[39m)\n\u001b[1;32m    982\u001b[0m     \u001b[39mreturn\u001b[39;00m \u001b[39mself\u001b[39m\u001b[39m.\u001b[39m_get_values(key)\n\u001b[0;32m--> 984\u001b[0m \u001b[39mreturn\u001b[39;00m \u001b[39mself\u001b[39;49m\u001b[39m.\u001b[39;49m_get_with(key)\n",
      "File \u001b[0;32m~/opt/anaconda3/lib/python3.9/site-packages/pandas/core/series.py:1019\u001b[0m, in \u001b[0;36mSeries._get_with\u001b[0;34m(self, key)\u001b[0m\n\u001b[1;32m   1015\u001b[0m \u001b[39mif\u001b[39;00m key_type \u001b[39m==\u001b[39m \u001b[39m\"\u001b[39m\u001b[39minteger\u001b[39m\u001b[39m\"\u001b[39m:\n\u001b[1;32m   1016\u001b[0m     \u001b[39m# We need to decide whether to treat this as a positional indexer\u001b[39;00m\n\u001b[1;32m   1017\u001b[0m     \u001b[39m#  (i.e. self.iloc) or label-based (i.e. self.loc)\u001b[39;00m\n\u001b[1;32m   1018\u001b[0m     \u001b[39mif\u001b[39;00m \u001b[39mnot\u001b[39;00m \u001b[39mself\u001b[39m\u001b[39m.\u001b[39mindex\u001b[39m.\u001b[39m_should_fallback_to_positional:\n\u001b[0;32m-> 1019\u001b[0m         \u001b[39mreturn\u001b[39;00m \u001b[39mself\u001b[39;49m\u001b[39m.\u001b[39;49mloc[key]\n\u001b[1;32m   1020\u001b[0m     \u001b[39melse\u001b[39;00m:\n\u001b[1;32m   1021\u001b[0m         \u001b[39mreturn\u001b[39;00m \u001b[39mself\u001b[39m\u001b[39m.\u001b[39miloc[key]\n",
      "File \u001b[0;32m~/opt/anaconda3/lib/python3.9/site-packages/pandas/core/indexing.py:967\u001b[0m, in \u001b[0;36m_LocationIndexer.__getitem__\u001b[0;34m(self, key)\u001b[0m\n\u001b[1;32m    964\u001b[0m axis \u001b[39m=\u001b[39m \u001b[39mself\u001b[39m\u001b[39m.\u001b[39maxis \u001b[39mor\u001b[39;00m \u001b[39m0\u001b[39m\n\u001b[1;32m    966\u001b[0m maybe_callable \u001b[39m=\u001b[39m com\u001b[39m.\u001b[39mapply_if_callable(key, \u001b[39mself\u001b[39m\u001b[39m.\u001b[39mobj)\n\u001b[0;32m--> 967\u001b[0m \u001b[39mreturn\u001b[39;00m \u001b[39mself\u001b[39;49m\u001b[39m.\u001b[39;49m_getitem_axis(maybe_callable, axis\u001b[39m=\u001b[39;49maxis)\n",
      "File \u001b[0;32m~/opt/anaconda3/lib/python3.9/site-packages/pandas/core/indexing.py:1191\u001b[0m, in \u001b[0;36m_LocIndexer._getitem_axis\u001b[0;34m(self, key, axis)\u001b[0m\n\u001b[1;32m   1188\u001b[0m     \u001b[39mif\u001b[39;00m \u001b[39mhasattr\u001b[39m(key, \u001b[39m\"\u001b[39m\u001b[39mndim\u001b[39m\u001b[39m\"\u001b[39m) \u001b[39mand\u001b[39;00m key\u001b[39m.\u001b[39mndim \u001b[39m>\u001b[39m \u001b[39m1\u001b[39m:\n\u001b[1;32m   1189\u001b[0m         \u001b[39mraise\u001b[39;00m \u001b[39mValueError\u001b[39;00m(\u001b[39m\"\u001b[39m\u001b[39mCannot index with multidimensional key\u001b[39m\u001b[39m\"\u001b[39m)\n\u001b[0;32m-> 1191\u001b[0m     \u001b[39mreturn\u001b[39;00m \u001b[39mself\u001b[39;49m\u001b[39m.\u001b[39;49m_getitem_iterable(key, axis\u001b[39m=\u001b[39;49maxis)\n\u001b[1;32m   1193\u001b[0m \u001b[39m# nested tuple slicing\u001b[39;00m\n\u001b[1;32m   1194\u001b[0m \u001b[39mif\u001b[39;00m is_nested_tuple(key, labels):\n",
      "File \u001b[0;32m~/opt/anaconda3/lib/python3.9/site-packages/pandas/core/indexing.py:1132\u001b[0m, in \u001b[0;36m_LocIndexer._getitem_iterable\u001b[0;34m(self, key, axis)\u001b[0m\n\u001b[1;32m   1129\u001b[0m \u001b[39mself\u001b[39m\u001b[39m.\u001b[39m_validate_key(key, axis)\n\u001b[1;32m   1131\u001b[0m \u001b[39m# A collection of keys\u001b[39;00m\n\u001b[0;32m-> 1132\u001b[0m keyarr, indexer \u001b[39m=\u001b[39m \u001b[39mself\u001b[39;49m\u001b[39m.\u001b[39;49m_get_listlike_indexer(key, axis)\n\u001b[1;32m   1133\u001b[0m \u001b[39mreturn\u001b[39;00m \u001b[39mself\u001b[39m\u001b[39m.\u001b[39mobj\u001b[39m.\u001b[39m_reindex_with_indexers(\n\u001b[1;32m   1134\u001b[0m     {axis: [keyarr, indexer]}, copy\u001b[39m=\u001b[39m\u001b[39mTrue\u001b[39;00m, allow_dups\u001b[39m=\u001b[39m\u001b[39mTrue\u001b[39;00m\n\u001b[1;32m   1135\u001b[0m )\n",
      "File \u001b[0;32m~/opt/anaconda3/lib/python3.9/site-packages/pandas/core/indexing.py:1327\u001b[0m, in \u001b[0;36m_LocIndexer._get_listlike_indexer\u001b[0;34m(self, key, axis)\u001b[0m\n\u001b[1;32m   1324\u001b[0m ax \u001b[39m=\u001b[39m \u001b[39mself\u001b[39m\u001b[39m.\u001b[39mobj\u001b[39m.\u001b[39m_get_axis(axis)\n\u001b[1;32m   1325\u001b[0m axis_name \u001b[39m=\u001b[39m \u001b[39mself\u001b[39m\u001b[39m.\u001b[39mobj\u001b[39m.\u001b[39m_get_axis_name(axis)\n\u001b[0;32m-> 1327\u001b[0m keyarr, indexer \u001b[39m=\u001b[39m ax\u001b[39m.\u001b[39;49m_get_indexer_strict(key, axis_name)\n\u001b[1;32m   1329\u001b[0m \u001b[39mreturn\u001b[39;00m keyarr, indexer\n",
      "File \u001b[0;32m~/opt/anaconda3/lib/python3.9/site-packages/pandas/core/indexes/base.py:5782\u001b[0m, in \u001b[0;36mIndex._get_indexer_strict\u001b[0;34m(self, key, axis_name)\u001b[0m\n\u001b[1;32m   5779\u001b[0m \u001b[39melse\u001b[39;00m:\n\u001b[1;32m   5780\u001b[0m     keyarr, indexer, new_indexer \u001b[39m=\u001b[39m \u001b[39mself\u001b[39m\u001b[39m.\u001b[39m_reindex_non_unique(keyarr)\n\u001b[0;32m-> 5782\u001b[0m \u001b[39mself\u001b[39;49m\u001b[39m.\u001b[39;49m_raise_if_missing(keyarr, indexer, axis_name)\n\u001b[1;32m   5784\u001b[0m keyarr \u001b[39m=\u001b[39m \u001b[39mself\u001b[39m\u001b[39m.\u001b[39mtake(indexer)\n\u001b[1;32m   5785\u001b[0m \u001b[39mif\u001b[39;00m \u001b[39misinstance\u001b[39m(key, Index):\n\u001b[1;32m   5786\u001b[0m     \u001b[39m# GH 42790 - Preserve name from an Index\u001b[39;00m\n",
      "File \u001b[0;32m~/opt/anaconda3/lib/python3.9/site-packages/pandas/core/indexes/base.py:5842\u001b[0m, in \u001b[0;36mIndex._raise_if_missing\u001b[0;34m(self, key, indexer, axis_name)\u001b[0m\n\u001b[1;32m   5840\u001b[0m     \u001b[39mif\u001b[39;00m use_interval_msg:\n\u001b[1;32m   5841\u001b[0m         key \u001b[39m=\u001b[39m \u001b[39mlist\u001b[39m(key)\n\u001b[0;32m-> 5842\u001b[0m     \u001b[39mraise\u001b[39;00m \u001b[39mKeyError\u001b[39;00m(\u001b[39mf\u001b[39m\u001b[39m\"\u001b[39m\u001b[39mNone of [\u001b[39m\u001b[39m{\u001b[39;00mkey\u001b[39m}\u001b[39;00m\u001b[39m] are in the [\u001b[39m\u001b[39m{\u001b[39;00maxis_name\u001b[39m}\u001b[39;00m\u001b[39m]\u001b[39m\u001b[39m\"\u001b[39m)\n\u001b[1;32m   5844\u001b[0m not_found \u001b[39m=\u001b[39m \u001b[39mlist\u001b[39m(ensure_index(key)[missing_mask\u001b[39m.\u001b[39mnonzero()[\u001b[39m0\u001b[39m]]\u001b[39m.\u001b[39munique())\n\u001b[1;32m   5845\u001b[0m \u001b[39mraise\u001b[39;00m \u001b[39mKeyError\u001b[39;00m(\u001b[39mf\u001b[39m\u001b[39m\"\u001b[39m\u001b[39m{\u001b[39;00mnot_found\u001b[39m}\u001b[39;00m\u001b[39m not in index\u001b[39m\u001b[39m\"\u001b[39m)\n",
      "\u001b[0;31mKeyError\u001b[0m: \"None of [Int64Index([400, 401, 402, 403, 404, 405, 406, 407, 408, 409], dtype='int64')] are in the [index]\""
     ]
    }
   ],
   "source": [
    "\n",
    "j = 1\n",
    "i = 0\n",
    "bins_list = [*range(400, 900, 10)]\n",
    "total_bins = 4*bins_list\n",
    "my_lambda = total_bins[i]\n",
    "lambda_min = int(my_lambda)\n",
    "print(lambda_min)\n",
    "lambda_max = lambda_min + 10\n",
    "sliced_data = spectra_list[j]['emission'][range(lambda_min, lambda_max)]\n",
    "sliced_data\n",
    "emission_bin_area = np.trapz(sliced_data)\n",
    "print('Np.trapz value: ', emission_bin_area)"
   ]
  },
  {
   "cell_type": "markdown",
   "metadata": {},
   "source": [
    "### Function to solve for matrix A just inputting i and j value "
   ]
  },
  {
   "cell_type": "code",
   "execution_count": 77,
   "metadata": {},
   "outputs": [
    {
     "name": "stdout",
     "output_type": "stream",
     "text": [
      "Np.trapz value:  0.00191304970697145\n",
      "A =  0.000956524853485725 photons\n"
     ]
    }
   ],
   "source": [
    "spectra_list = [mEmerald_columns, mTagBFP2_columns, mCherry_columns, mNeptune2p5_columns]\n",
    "def calc_a(i, j):\n",
    "    bins_list = [*range(400, 900, 10)]\n",
    "    total_bins = 4*bins_list\n",
    "    my_lambda = total_bins[i]\n",
    "    lambda_min = i\n",
    "    lambda_max = lambda_min + 10\n",
    "    sliced_data = spectra_list[j]['emission'][range(lambda_min, lambda_max)]\n",
    "    emission_bin_area = np.trapz(sliced_data)\n",
    "    print('Np.trapz value: ', emission_bin_area)\n",
    "    k = 1 \n",
    "    b = 1 \n",
    "    excitation = 0.5 \n",
    "    a = k*b*excitation*emission_bin_area\n",
    "    print('A = ', a, 'photons')\n",
    "\n",
    "calc_a(100, 1)"
   ]
  },
  {
   "cell_type": "code",
   "execution_count": 42,
   "metadata": {},
   "outputs": [],
   "source": [
    "# spectra_list = [mEmerald_columns, mTagBFP2_columns, mCherry_columns, mNeptune2p5_columns]\n",
    "# def calc_a(i, j, lambda_min):\n",
    "#     lambda_max = lambda_min + 10\n",
    "#     sliced_data = spectra_list[j]['emission'][range(lambda_min, lambda_max)]\n",
    "#     sliced_data\n",
    "#     emission_bin_area = np.trapz(sliced_data)\n",
    "#     a = emission_bin_area\n",
    "#     return a"
   ]
  },
  {
   "cell_type": "code",
   "execution_count": null,
   "metadata": {},
   "outputs": [],
   "source": []
  },
  {
   "cell_type": "code",
   "execution_count": null,
   "metadata": {},
   "outputs": [],
   "source": []
  }
 ],
 "metadata": {
  "kernelspec": {
   "display_name": "Python 3.9.12 ('base')",
   "language": "python",
   "name": "python3"
  },
  "language_info": {
   "codemirror_mode": {
    "name": "ipython",
    "version": 3
   },
   "file_extension": ".py",
   "mimetype": "text/x-python",
   "name": "python",
   "nbconvert_exporter": "python",
   "pygments_lexer": "ipython3",
   "version": "3.9.12"
  },
  "orig_nbformat": 4,
  "vscode": {
   "interpreter": {
    "hash": "d801b28d0c2f9341eaf08410a8d5dd8d794b8daecaeee8ba55dd2443d2219971"
   }
  }
 },
 "nbformat": 4,
 "nbformat_minor": 2
}
