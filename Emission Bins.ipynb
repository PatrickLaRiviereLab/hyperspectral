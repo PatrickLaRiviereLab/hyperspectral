{
 "cells": [
  {
   "cell_type": "code",
   "execution_count": 2,
   "metadata": {},
   "outputs": [],
   "source": [
    "import pandas as pd\n",
    "import numpy as np"
   ]
  },
  {
   "cell_type": "code",
   "execution_count": 202,
   "metadata": {},
   "outputs": [],
   "source": [
    "df_mEmerald = pd.read_csv('mEmerald_fpbase_spectra.csv')\n",
    "df_mEmerald.fillna(0, inplace = True)\n",
    "df_mTagBFP2 = pd.read_csv('mTagBFP2_fpbase_spectra.csv')\n",
    "df_mTagBFP2.fillna(0, inplace = True)\n",
    "df_mCherry = pd.read_csv('mCherry_fpbase_spectra.csv')\n",
    "df_mCherry.fillna(0, inplace = True)\n",
    "df_mNeptune2p5 = pd.read_csv('mNeptune2p5_fbpase_spectra.csv')\n",
    "df_mNeptune2p5.fillna(0, inplace = True)\n",
    "\n",
    "mEmerald_columns = df_mEmerald.rename(columns ={'mEmerald ex': 'excitation', 'mEmerald em': 'emission'})\n",
    "mTagBFP2_columns = df_mTagBFP2.rename(columns ={'mTagBFP2 ex': 'excitation', 'mTagBFP2 em': 'emission'})\n",
    "mCherry_columns = df_mCherry.rename(columns ={'mCherry ex': 'excitation', 'mCherry em': 'emission'})\n",
    "mNeptune2p5_columns = df_mNeptune2p5.rename(columns ={'mNeptune2.5 ex': 'excitation', 'mNeptune2.5 em': 'emission'})\n",
    "\n",
    "spectra_list = [mEmerald_columns, mTagBFP2_columns, mCherry_columns, mNeptune2p5_columns]\n",
    "for j in range(0,4):\n",
    "    excitation_column = spectra_list[j]['excitation']\n",
    "    area = np.trapz(excitation_column, dx = 1)\n",
    "    normalized = excitation_column/area\n",
    "    excitation_column = normalized\n",
    "    spectra_list[j]['excitation'] = normalized\n",
    "    new_area = np.trapz(excitation_column, dx = 1)\n",
    "    column = spectra_list[j]['emission']\n",
    "    area_emission = np.trapz(column, dx = 1)\n",
    "    normalized_em = column/area_emission\n",
    "    column = normalized_em\n",
    "    spectra_list[j]['emission'] = normalized_em\n",
    "    new_area_em = np.trapz(column, dx = 1)"
   ]
  },
  {
   "cell_type": "markdown",
   "metadata": {},
   "source": [
    "Now that you have extracted the emission spectra, calculate\n",
    "$$\\int_{\\lambda_{i,\\text{min}}^{em}}^{\\lambda_{i,\\text{max}}^{em}} t_j^{em}(\\lambda) \\,d\\lambda$$\n",
    "for a given $i,j$."
   ]
  },
  {
   "cell_type": "code",
   "execution_count": 203,
   "metadata": {},
   "outputs": [
    {
     "name": "stdout",
     "output_type": "stream",
     "text": [
      "650\n",
      "[650, 651, 652, 653, 654, 655, 656, 657, 658, 659]\n",
      "     wavelength  excitation  emission  mCherry 2p\n",
      "350         650    0.000016  0.006849         0.0\n",
      "351         651    0.000000  0.006753         0.0\n",
      "352         652    0.000000  0.006669         0.0\n",
      "353         653    0.000000  0.006543         0.0\n",
      "354         654    0.000000  0.006452         0.0\n",
      "355         655    0.000000  0.006400         0.0\n",
      "356         656    0.000000  0.006237         0.0\n",
      "357         657    0.000000  0.006132         0.0\n",
      "358         658    0.000000  0.005987         0.0\n",
      "359         659    0.000000  0.005894         0.0\n"
     ]
    },
    {
     "data": {
      "text/plain": [
       "0.05754373337904908"
      ]
     },
     "execution_count": 203,
     "metadata": {},
     "output_type": "execute_result"
    }
   ],
   "source": [
    "spectra_list = [mEmerald_columns, mTagBFP2_columns, mCherry_columns, mNeptune2p5_columns]\n",
    "bins_list = [*range(400, 900, 10)]\n",
    "j = 2\n",
    "df_spectra = spectra_list[j]\n",
    "i = 25\n",
    "lambda_min = bins_list[i]\n",
    "lambda_max = bins_list[i+1]\n",
    "print(lambda_min)\n",
    "bin_i = range(lambda_min, lambda_max)\n",
    "print(list(bin_i))\n",
    "df_sliced_data = df_spectra.loc[df_spectra['wavelength'].isin(bin_i)]\n",
    "print(df_sliced_data)\n",
    "sliced_data_emmision = df_sliced_data['emission']\n",
    "emission_list = np.array(sliced_data)\n",
    "np.trapz(emission_list)\n"
   ]
  },
  {
   "cell_type": "markdown",
   "metadata": {},
   "source": [
    "Trying to extract section of dataframe depending on wavelength range"
   ]
  },
  {
   "cell_type": "code",
   "execution_count": 204,
   "metadata": {},
   "outputs": [
    {
     "data": {
      "text/plain": [
       "100    0.0\n",
       "101    0.0\n",
       "102    0.0\n",
       "103    0.0\n",
       "104    0.0\n",
       "105    0.0\n",
       "106    0.0\n",
       "107    0.0\n",
       "108    0.0\n",
       "109    0.0\n",
       "Name: emission, dtype: float64"
      ]
     },
     "execution_count": 204,
     "metadata": {},
     "output_type": "execute_result"
    }
   ],
   "source": [
    "df_spectra = spectra_list[j]\n",
    "df_spectra.loc[df_spectra['wavelength'] == 400]\n",
    "df_spectra.loc[df_spectra['wavelength'].isin(range(400, 410))]\n",
    "df_spectra.loc[df_spectra['wavelength'].isin(range(400, 410))]['emission'] ##Make the range a variable and fix code above using this instead. \n",
    "# , 'emission']"
   ]
  },
  {
   "cell_type": "markdown",
   "metadata": {},
   "source": [
    "Function to solve for emmision bin \n",
    "$$\\int_{\\lambda_{i,\\text{min}}^{em}}^{\\lambda_{i,\\text{max}}^{em}} t_j^{em}(\\lambda) \\,d\\lambda$$\n",
    "just inputting i and j value "
   ]
  },
  {
   "cell_type": "code",
   "execution_count": 212,
   "metadata": {},
   "outputs": [],
   "source": [
    "spectra_list = [mEmerald_columns, mTagBFP2_columns, mCherry_columns, mNeptune2p5_columns]\n",
    "\n",
    "def calc_emission_bin(i, j):\n",
    "    bins_list = [*range(400, 900, 10)]\n",
    "    total_bins = 4*bins_list \n",
    "    df_spectra = spectra_list[j]\n",
    "    lambda_min = total_bins[i]\n",
    "    lambda_max = total_bins[i+1]\n",
    "    bin_i = range(lambda_min, lambda_max)\n",
    "    df_sliced_data = df_spectra.loc[df_spectra['wavelength'].isin(bin_i)]\n",
    "    print(df_sliced_data)\n",
    "    sliced_data_emmision = df_sliced_data['emission']\n",
    "    emission_bin = np.trapz(sliced_data_emmision)\n",
    "    print('Np.trapz value: ', emission_bin)\n",
    "    return emission_bin"
   ]
  },
  {
   "cell_type": "code",
   "execution_count": 213,
   "metadata": {},
   "outputs": [
    {
     "name": "stdout",
     "output_type": "stream",
     "text": [
      "     wavelength  excitation  emission  mCherry 2p\n",
      "550         850         0.0       0.0      0.0224\n",
      "551         851         0.0       0.0      0.0216\n",
      "552         852         0.0       0.0      0.0208\n",
      "553         853         0.0       0.0      0.0201\n",
      "554         854         0.0       0.0      0.0194\n",
      "555         855         0.0       0.0      0.0187\n",
      "556         856         0.0       0.0      0.0182\n",
      "557         857         0.0       0.0      0.0178\n",
      "558         858         0.0       0.0      0.0176\n",
      "559         859         0.0       0.0      0.0174\n",
      "Np.trapz value:  0.0\n"
     ]
    },
    {
     "data": {
      "text/plain": [
       "0.0"
      ]
     },
     "execution_count": 213,
     "metadata": {},
     "output_type": "execute_result"
    }
   ],
   "source": [
    "calc_emission_bin(95, 2)"
   ]
  }
 ],
 "metadata": {
  "kernelspec": {
   "display_name": "Python 3.9.12 ('base')",
   "language": "python",
   "name": "python3"
  },
  "language_info": {
   "codemirror_mode": {
    "name": "ipython",
    "version": 3
   },
   "file_extension": ".py",
   "mimetype": "text/x-python",
   "name": "python",
   "nbconvert_exporter": "python",
   "pygments_lexer": "ipython3",
   "version": "3.9.12"
  },
  "orig_nbformat": 4,
  "vscode": {
   "interpreter": {
    "hash": "d801b28d0c2f9341eaf08410a8d5dd8d794b8daecaeee8ba55dd2443d2219971"
   }
  }
 },
 "nbformat": 4,
 "nbformat_minor": 2
}
