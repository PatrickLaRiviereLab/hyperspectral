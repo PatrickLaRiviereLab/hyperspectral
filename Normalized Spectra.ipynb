{
 "cells": [
  {
   "cell_type": "code",
   "execution_count": 3,
   "metadata": {},
   "outputs": [],
   "source": [
    "import pandas as pd\n",
    "import numpy as np"
   ]
  },
  {
   "cell_type": "code",
   "execution_count": 4,
   "metadata": {},
   "outputs": [
    {
     "name": "stdout",
     "output_type": "stream",
     "text": [
      "j =  0\n",
      "Initial excitation area:  67.16065\n",
      "New excitation area:  1.0\n",
      "Initial emission area:  43.9995\n",
      "New emission area:  1.0\n",
      "j =  1\n",
      "Initial excitation area:  50.86944999999999\n",
      "New excitation area:  1.0\n",
      "Initial emission area:  57.23845\n",
      "New emission area:  1.0\n",
      "j =  2\n",
      "Initial excitation area:  76.5955\n",
      "New excitation area:  1.0\n",
      "Initial emission area:  70.58109999999999\n",
      "New emission area:  1.0\n",
      "j =  3\n",
      "Initial excitation area:  83.04745\n",
      "New excitation area:  1.0\n",
      "Initial emission area:  89.60985\n",
      "New emission area:  1.0\n"
     ]
    }
   ],
   "source": [
    "df_mEmerald = pd.read_csv('mEmerald_fpbase_spectra.csv')\n",
    "df_mEmerald.fillna(0, inplace = True)\n",
    "df_mTagBFP2 = pd.read_csv('mTagBFP2_fpbase_spectra.csv')\n",
    "df_mTagBFP2.fillna(0, inplace = True)\n",
    "df_mCherry = pd.read_csv('mCherry_fpbase_spectra.csv')\n",
    "df_mCherry.fillna(0, inplace = True)\n",
    "df_mNeptune2p5 = pd.read_csv('mNeptune2p5_fbpase_spectra.csv')\n",
    "df_mNeptune2p5.fillna(0, inplace = True)\n",
    "\n",
    "mEmerald_columns = df_mEmerald.rename(columns ={'mEmerald ex': 'excitation', 'mEmerald em': 'emission'})\n",
    "mTagBFP2_columns = df_mTagBFP2.rename(columns ={'mTagBFP2 ex': 'excitation', 'mTagBFP2 em': 'emission'})\n",
    "mCherry_columns = df_mCherry.rename(columns ={'mCherry ex': 'excitation', 'mCherry em': 'emission'})\n",
    "mNeptune2p5_columns = df_mNeptune2p5.rename(columns ={'mNeptune2.5 ex': 'excitation', 'mNeptune2.5 em': 'emission'})\n",
    "\n",
    "spectra_list = [mEmerald_columns, mTagBFP2_columns, mCherry_columns, mNeptune2p5_columns]\n",
    "for j in range(0,4):\n",
    "    print(\"j = \", j)\n",
    "    excitation_column = spectra_list[j]['excitation']\n",
    "    area = np.trapz(excitation_column, dx = 1)\n",
    "    print(\"Initial excitation area: \", area)\n",
    "    normalized = excitation_column/area\n",
    "    excitation_column = normalized\n",
    "    spectra_list[j]['excitation'] = normalized\n",
    "    new_area = np.trapz(excitation_column, dx = 1)\n",
    "    print(\"New excitation area: \", new_area)\n",
    "    column = spectra_list[j]['emission']\n",
    "    area_emission = np.trapz(column, dx = 1)\n",
    "    print(\"Initial emission area: \", area_emission)\n",
    "    normalized_em = column/area_emission\n",
    "    column = normalized_em\n",
    "    spectra_list[j]['emission'] = normalized_em\n",
    "    new_area_em = np.trapz(column, dx = 1)\n",
    "    print(\"New emission area: \", new_area_em)"
   ]
  },
  {
   "cell_type": "code",
   "execution_count": null,
   "metadata": {},
   "outputs": [],
   "source": []
  },
  {
   "cell_type": "code",
   "execution_count": null,
   "metadata": {},
   "outputs": [],
   "source": []
  }
 ],
 "metadata": {
  "kernelspec": {
   "display_name": "Python 3.9.12 ('base')",
   "language": "python",
   "name": "python3"
  },
  "language_info": {
   "codemirror_mode": {
    "name": "ipython",
    "version": 3
   },
   "file_extension": ".py",
   "mimetype": "text/x-python",
   "name": "python",
   "nbconvert_exporter": "python",
   "pygments_lexer": "ipython3",
   "version": "3.9.12"
  },
  "orig_nbformat": 4,
  "vscode": {
   "interpreter": {
    "hash": "d801b28d0c2f9341eaf08410a8d5dd8d794b8daecaeee8ba55dd2443d2219971"
   }
  }
 },
 "nbformat": 4,
 "nbformat_minor": 2
}
