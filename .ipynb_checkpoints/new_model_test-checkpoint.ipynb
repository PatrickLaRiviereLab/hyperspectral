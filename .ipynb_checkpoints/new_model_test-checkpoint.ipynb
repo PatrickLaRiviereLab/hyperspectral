{
 "cells": [
  {
   "cell_type": "code",
   "execution_count": 1,
   "id": "255261a3",
   "metadata": {},
   "outputs": [],
   "source": [
    "import numpy as np\n",
    "import pandas as pd\n",
    "import matplotlib.pyplot as plt\n",
    "from data_objects import Fluorophore\n",
    "from imaging_model import fast_form_A_from_photons\n",
    "from information_matrix import read_qe, fast_form_q_vec, FIM"
   ]
  },
  {
   "cell_type": "code",
   "execution_count": 2,
   "id": "0efd0195",
   "metadata": {},
   "outputs": [
    {
     "data": {
      "text/plain": [
       "['mEmerald', 'mTagBFP2', 'mCherry', 'mNeptune2.5']"
      ]
     },
     "execution_count": 2,
     "metadata": {},
     "output_type": "execute_result"
    }
   ],
   "source": [
    "fluorophore_string_list = [\"mEmerald\", \"mTagBFP2\", \"mCherry\", \"mNeptune2.5\"]\n",
    "brightness_list         = [39.1,       32.38,      15.85,     22.8         ]\n",
    "wavelength_range = (400,900)\n",
    "\n",
    "fluorophore_list = []\n",
    "for fluorophore_name, fluorophore_brightness in zip(fluorophore_string_list, brightness_list):\n",
    "    fluorophore_list.append(Fluorophore(fluorophore_name, fluorophore_brightness, index_range=wavelength_range))\n",
    "\n",
    "list(map(Fluorophore.get_name, fluorophore_list))"
   ]
  },
  {
   "cell_type": "code",
   "execution_count": 3,
   "id": "872d6982",
   "metadata": {},
   "outputs": [],
   "source": [
    "illumination_wavelengths = np.array([405, 488, 561, 637])\n",
    "bin_width = 10"
   ]
  },
  {
   "cell_type": "code",
   "execution_count": null,
   "id": "1256950f",
   "metadata": {},
   "outputs": [],
   "source": [
    "qe = read_qe(wavelength_range)\n",
    "q_vec = fast_form_q_vec(qe, wavelength_range, bin_width, len(illumination_wavelengths))\n",
    "\n",
    "def calc_FOM(A, x):\n",
    "    F = FIM(A, x, q_vec, 2)\n",
    "    FIM_inv = np.linalg.inv(F)\n",
    "    CRLB = np.diagonal(FIM_inv)\n",
    "    FOM_list = np.array(x) / np.sqrt(CRLB)\n",
    "    \n",
    "    return FOM_list"
   ]
  },
  {
   "cell_type": "code",
   "execution_count": null,
   "id": "36587c72",
   "metadata": {},
   "outputs": [],
   "source": [
    "def FOM_from_desired_photons(desired_photons # desired photons per illumination):\n",
    "    "
   ]
  }
 ],
 "metadata": {
  "kernelspec": {
   "display_name": "Python 3 (ipykernel)",
   "language": "python",
   "name": "python3"
  },
  "language_info": {
   "codemirror_mode": {
    "name": "ipython",
    "version": 3
   },
   "file_extension": ".py",
   "mimetype": "text/x-python",
   "name": "python",
   "nbconvert_exporter": "python",
   "pygments_lexer": "ipython3",
   "version": "3.9.16"
  }
 },
 "nbformat": 4,
 "nbformat_minor": 5
}
