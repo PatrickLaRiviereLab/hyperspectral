{
 "cells": [
  {
   "cell_type": "markdown",
   "metadata": {},
   "source": [
    "Here we calculate the matrix $A$ for the imaging model $y = Ax$. Each element of the matrix $A$ is\n",
    "$$ a_{ij} = k_i b_j t_j^{ex}(\\lambda_i)\\int_{\\lambda_{i,min}^{em}}^{\\lambda_{i,max}^{em}} t_j^{ex}(\\lambda) d\\lambda$$\n",
    "We begin by fixing an $i$ and $j$ to calculate one specific element."
   ]
  },
  {
   "cell_type": "code",
   "execution_count": 23,
   "metadata": {},
   "outputs": [
    {
     "name": "stdout",
     "output_type": "stream",
     "text": [
      "Sum of excitation spectrum and d(lambda):  13365 nm\n",
      "aij =  54128250 photons\n"
     ]
    }
   ],
   "source": [
    "\n",
    "k = 1\n",
    "b = 10\n",
    "t = 405\n",
    "d = 3\n",
    "x = [400, 401, 402, 403, 404, 405, 406, 407, 408, 409, 410]\n",
    "s = sum(x*d)\n",
    "print('Sum of excitation spectrum and d(lambda): ', s, 'nm')\n",
    "a = k*b*t*s\n",
    "print('aij = ', a, 'photons')"
   ]
  },
  {
   "cell_type": "code",
   "execution_count": 22,
   "metadata": {},
   "outputs": [],
   "source": [
    "import numpy as np\n",
    "import matplotlib.pyplot as plt"
   ]
  },
  {
   "cell_type": "markdown",
   "metadata": {},
   "source": [
    "Simple integral for practice"
   ]
  },
  {
   "cell_type": "code",
   "execution_count": 3,
   "metadata": {},
   "outputs": [
    {
     "name": "stdout",
     "output_type": "stream",
     "text": [
      "[1 2 3]\n"
     ]
    }
   ],
   "source": [
    "\n",
    "x = [1, 2, 3]\n",
    "y = [4, 6, 8]\n",
    "xnp = np.array(x)\n",
    "ynp = np.array(y)\n"
   ]
  },
  {
   "cell_type": "code",
   "execution_count": 12,
   "metadata": {},
   "outputs": [
    {
     "name": "stdout",
     "output_type": "stream",
     "text": [
      "12.0\n"
     ]
    }
   ],
   "source": [
    "\n",
    "area_x = np.trapz(xnp, dx=3)\n",
    "print(area_x)"
   ]
  },
  {
   "cell_type": "code",
   "execution_count": 13,
   "metadata": {},
   "outputs": [
    {
     "name": "stdout",
     "output_type": "stream",
     "text": [
      "36.0\n"
     ]
    }
   ],
   "source": [
    "area_y = np.trapz(ynp, dx=3)\n",
    "print(area_y)"
   ]
  },
  {
   "cell_type": "code",
   "execution_count": 25,
   "metadata": {},
   "outputs": [
    {
     "name": "stdout",
     "output_type": "stream",
     "text": [
      "[0.08333333 0.16666667 0.25      ]\n"
     ]
    }
   ],
   "source": [
    "new_x = xnp/area_x\n",
    "# new_np_x = np.trapz(new_x, dx=3)\n",
    "print(new_x)"
   ]
  },
  {
   "cell_type": "code",
   "execution_count": 26,
   "metadata": {},
   "outputs": [
    {
     "name": "stdout",
     "output_type": "stream",
     "text": [
      "[0.11111111 0.16666667 0.22222222]\n"
     ]
    }
   ],
   "source": [
    "new_y = ynp/area_y\n",
    "# new_np_y = np.trapz(new_y, dx=3)\n",
    "print(new_y)"
   ]
  },
  {
   "cell_type": "code",
   "execution_count": 27,
   "metadata": {},
   "outputs": [
    {
     "data": {
      "text/plain": [
       "[<matplotlib.lines.Line2D at 0x7ffc10c7b310>]"
      ]
     },
     "execution_count": 27,
     "metadata": {},
     "output_type": "execute_result"
    },
    {
     "data": {
      "image/png": "[encoded data removed]",
      "text/plain": [
       "<Figure size 432x288 with 1 Axes>"
      ]
     },
     "metadata": {
      "needs_background": "light"
     },
     "output_type": "display_data"
    }
   ],
   "source": [
    "plt.plot(new_x, new_y)"
   ]
  },
  {
   "cell_type": "code",
   "execution_count": 52,
   "metadata": {},
   "outputs": [
    {
     "name": "stdout",
     "output_type": "stream",
     "text": [
      "7.0\n"
     ]
    },
    {
     "data": {
      "text/plain": [
       "7"
      ]
     },
     "execution_count": 52,
     "metadata": {},
     "output_type": "execute_result"
    }
   ],
   "source": [
    "x = [1, 2]\n",
    "y = [3, 4]\n",
    "xnp = np.trapz([3,4], x = [0,1,2])\n",
    "print(xnp)\n",
    "np.sum(y)"
   ]
  }
 ],
 "metadata": {
  "kernelspec": {
   "display_name": "Python 3.9.12 ('base')",
   "language": "python",
   "name": "python3"
  },
  "language_info": {
   "codemirror_mode": {
    "name": "ipython",
    "version": 3
   },
   "file_extension": ".py",
   "mimetype": "text/x-python",
   "name": "python",
   "nbconvert_exporter": "python",
   "pygments_lexer": "ipython3",
   "version": "3.9.12"
  },
  "orig_nbformat": 4,
  "vscode": {
   "interpreter": {
    "hash": "d801b28d0c2f9341eaf08410a8d5dd8d794b8daecaeee8ba55dd2443d2219971"
   }
  }
 },
 "nbformat": 4,
 "nbformat_minor": 2
}
