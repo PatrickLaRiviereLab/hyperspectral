{
 "cells": [
  {
   "cell_type": "code",
   "execution_count": 1,
   "metadata": {},
   "outputs": [],
   "source": [
    "import pandas as pd\n",
    "import numpy as np"
   ]
  },
  {
   "cell_type": "markdown",
   "metadata": {},
   "source": [
    "### Reading dataframes for each protein into python \n",
    "Renaming columns to be easily accessable, normalizing the excitation and emission spectra, taking sum of column "
   ]
  },
  {
   "cell_type": "code",
   "execution_count": 12,
   "metadata": {},
   "outputs": [],
   "source": [
    "df_mEmerald = pd.read_csv('mEmerald_fpbase_spectra.csv')\n",
    "df_mEmerald.fillna(0, inplace = True)\n",
    "df_mTagBFP2 = pd.read_csv('mTagBFP2_fpbase_spectra.csv')\n",
    "df_mTagBFP2.fillna(0, inplace = True)\n",
    "df_mCherry = pd.read_csv('mCherry_fpbase_spectra.csv')\n",
    "df_mCherry.fillna(0, inplace = True)\n",
    "df_mNeptune2p5 = pd.read_csv('mNeptune2p5_fbpase_spectra.csv')\n",
    "df_mNeptune2p5.fillna(0, inplace = True)\n",
    "\n",
    "mEmerald_columns = df_mEmerald.rename(columns ={'mEmerald ex': 'excitation', 'mEmerald em': 'emission'})\n",
    "mTagBFP2_columns = df_mTagBFP2.rename(columns ={'mTagBFP2 ex': 'excitation', 'mTagBFP2 em': 'emission'})\n",
    "mCherry_columns = df_mCherry.rename(columns ={'mCherry ex': 'excitation', 'mCherry em': 'emission'})\n",
    "mNeptune2p5_columns = df_mNeptune2p5.rename(columns ={'mNeptune2.5 ex': 'excitation', 'mNeptune2.5 em': 'emission'})\n",
    "\n",
    "spectra_list = [mEmerald_columns, mTagBFP2_columns, mCherry_columns, mNeptune2p5_columns]\n",
    "for j in range(0,4):\n",
    "    excitation_column = spectra_list[j]['excitation']\n",
    "    area = np.trapz(excitation_column, dx = 1)\n",
    "    normalized = excitation_column/area\n",
    "    excitation_column = normalized\n",
    "    spectra_list[j]['excitation'] = normalized\n",
    "    new_area = np.trapz(excitation_column, dx = 1)\n",
    "    column = spectra_list[j]['emission']\n",
    "    area_emission = np.trapz(column, dx = 1)\n",
    "    normalized_em = column/area_emission\n",
    "    column = normalized_em\n",
    "    spectra_list[j]['emission'] = normalized_em\n",
    "    new_area_em = np.trapz(column, dx = 1)"
   ]
  },
  {
   "cell_type": "markdown",
   "metadata": {},
   "source": [
    "### Function to solve emission bin area using i and j \n",
    "Corresponding lambda_min and lambda_max to the min and max wavelengths in channel i in a list of the 200 total bins "
   ]
  },
  {
   "cell_type": "code",
   "execution_count": 22,
   "metadata": {},
   "outputs": [],
   "source": [
    "spectra_list = [mEmerald_columns, mTagBFP2_columns, mCherry_columns, mNeptune2p5_columns]\n",
    "\n",
    "def calc_emission_bin(i, j):\n",
    "    bins_list = [*range(400, 900, 10)]\n",
    "    total_bins = 4*bins_list \n",
    "    df_spectra = spectra_list[j]\n",
    "    lambda_min = total_bins[i]\n",
    "    lambda_max = total_bins[i+1]\n",
    "    bin_i = range(lambda_min, lambda_max)\n",
    "    df_sliced_data = df_spectra.loc[df_spectra['wavelength'].isin(bin_i)]\n",
    "    # print(df_sliced_data)\n",
    "    sliced_data_emmision = df_sliced_data['emission']\n",
    "    emission_bin = np.trapz(sliced_data_emmision)\n",
    "    print('Emission bin sum for i = ', i, 'and j = ', j, 'is', emission_bin)\n",
    "    return emission_bin"
   ]
  },
  {
   "cell_type": "markdown",
   "metadata": {},
   "source": [
    "### Function to retrieve excitation value using j \n",
    "Excitation value corresponding to excitation wavelenghts for each protein: 405nm, 488nm, 561nm, 637nm. Found these values on csv files"
   ]
  },
  {
   "cell_type": "code",
   "execution_count": 5,
   "metadata": {},
   "outputs": [],
   "source": [
    "mEmerald_excitation = [0.1732, 0.9982, 0.0043, 0.0027]\n",
    "mCherry_excitation = [0.0198, 0.0762, 0.6394, 0.0067]\n",
    "mTag_excitation = [0.9588, 0, 0, 0]\n",
    "mNeptune_excitation = [0.0279, 0.0717, 0.5819, 0.1519]"
   ]
  },
  {
   "cell_type": "code",
   "execution_count": 18,
   "metadata": {},
   "outputs": [],
   "source": [
    "excitation_list = [mEmerald_excitation, mTag_excitation, mCherry_excitation, mNeptune_excitation]\n",
    "def calc_excitation(i, j): \n",
    "     excitation_protein = excitation_list[j]\n",
    "     if 0 <= i < 50: \n",
    "          excitation = excitation_protein[0]\n",
    "     elif 50 <= i < 100: \n",
    "          excitation = excitation_protein[1]\n",
    "     elif 100 <= i < 150:\n",
    "          excitation = excitation_protein[2]\n",
    "     elif 150 <= i < 200:\n",
    "          excitation = excitation_protein[3]\n",
    "     else:\n",
    "          print('Invalid i value')\n",
    "     print('Excitation value for i = ', i, 'and j = ', j, 'is', excitation)\n",
    "     return excitation"
   ]
  },
  {
   "cell_type": "markdown",
   "metadata": {},
   "source": [
    "### Function to index over brightness values using a given j \n",
    "Found brightness values on slack "
   ]
  },
  {
   "cell_type": "code",
   "execution_count": 16,
   "metadata": {},
   "outputs": [],
   "source": [
    "def calc_brightness(j):\n",
    "    brightness_list = [39.1, 32.38, 15.85, 22.8]\n",
    "    brightness = brightness_list[j]\n",
    "    print('Brightness value for j = ', j, 'is', brightness)\n",
    "    return brightness"
   ]
  },
  {
   "cell_type": "markdown",
   "metadata": {},
   "source": [
    "### Function to solve for matrix A just inputting i and j value \n",
    "All above functions called in this function to reduce reduncancy in solving for the matrix value"
   ]
  },
  {
   "cell_type": "code",
   "execution_count": 23,
   "metadata": {},
   "outputs": [
    {
     "name": "stdout",
     "output_type": "stream",
     "text": [
      "Brightness value for j =  2 is 15.85\n",
      "Excitation value for i =  25 and j =  2 is 0.0198\n",
      "Emission bin sum for i =  25 and j =  2 is 0.05754373337904908\n",
      "Matrix A for image channel i =  25  and spectrum j =  2 is  0.018058949846346973\n"
     ]
    },
    {
     "data": {
      "text/plain": [
       "0.018058949846346973"
      ]
     },
     "execution_count": 23,
     "metadata": {},
     "output_type": "execute_result"
    }
   ],
   "source": [
    "def calc_a(i, j):\n",
    "    k = 1 \n",
    "    brightness_value = calc_brightness(j)\n",
    "    excitation_value = calc_excitation(i, j)\n",
    "    emission_bin_area = calc_emission_bin(i, j)\n",
    "    a = k * brightness_value * excitation_value * emission_bin_area\n",
    "    print('Matrix A for image channel i = ', i, ' and spectrum j = ', j, 'is ', a)\n",
    "    return a\n",
    "\n",
    "calc_a(25, 2)"
   ]
  }
 ],
 "metadata": {
  "kernelspec": {
   "display_name": "Python 3.9.12 ('base')",
   "language": "python",
   "name": "python3"
  },
  "language_info": {
   "codemirror_mode": {
    "name": "ipython",
    "version": 3
   },
   "file_extension": ".py",
   "mimetype": "text/x-python",
   "name": "python",
   "nbconvert_exporter": "python",
   "pygments_lexer": "ipython3",
   "version": "3.9.12"
  },
  "orig_nbformat": 4,
  "vscode": {
   "interpreter": {
    "hash": "d801b28d0c2f9341eaf08410a8d5dd8d794b8daecaeee8ba55dd2443d2219971"
   }
  }
 },
 "nbformat": 4,
 "nbformat_minor": 2
}
