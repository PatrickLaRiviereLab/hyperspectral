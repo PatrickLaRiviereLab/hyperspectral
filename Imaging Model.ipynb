{
 "cells": [
  {
   "cell_type": "markdown",
   "metadata": {},
   "source": [
    "Here we calculate the matrix $A$ for the imaging model $y = Ax$. Each element of the matrix $A$ is\n",
    "$$ a_{ij} = k_i b_j t_j^{ex}(\\lambda_i)\\int_{\\lambda_{i,min}^{em}}^{\\lambda_{i,max}^{em}} t_j^{ex}(\\lambda) d\\lambda$$\n",
    "We begin by fixing an $i$ and $j$ to calculate one specific element."
   ]
  },
  {
   "cell_type": "code",
   "execution_count": null,
   "metadata": {},
   "outputs": [],
   "source": []
  },
  {
   "cell_type": "markdown",
   "metadata": {},
   "source": []
  }
 ],
 "metadata": {
  "language_info": {
   "name": "python"
  },
  "orig_nbformat": 4
 },
 "nbformat": 4,
 "nbformat_minor": 2
}
