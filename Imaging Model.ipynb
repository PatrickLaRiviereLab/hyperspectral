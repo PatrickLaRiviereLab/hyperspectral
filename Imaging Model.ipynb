{
 "cells": [
  {
   "cell_type": "markdown",
   "metadata": {},
   "source": [
    "Here we calculate the matrix $A$ for the imaging model $y = Ax$. Each element of the matrix $A$ is\n",
    "$$ a_{ij} = k_i b_j t_j^{ex}(\\lambda_i)\\int_{\\lambda_{i,min}^{em}}^{\\lambda_{i,max}^{em}} t_j^{em}(\\lambda) d\\lambda$$\n",
    "We begin by fixing an $i$ and $j$ to calculate one specific element."
   ]
  },
  {
   "cell_type": "code",
   "execution_count": 3,
   "metadata": {},
   "outputs": [],
   "source": [
    "import numpy as np\n",
    "import matplotlib.pyplot as plt"
   ]
  },
  {
   "cell_type": "markdown",
   "metadata": {},
   "source": [
    "## Simple integral for practice and normalizing"
   ]
  },
  {
   "cell_type": "code",
   "execution_count": 4,
   "metadata": {},
   "outputs": [],
   "source": [
    "\n",
    "x = [1, 2, 3]\n",
    "y = [4, 6, 8]\n",
    "xnp = np.array(x)\n",
    "ynp = np.array(y)\n"
   ]
  },
  {
   "cell_type": "code",
   "execution_count": 5,
   "metadata": {},
   "outputs": [
    {
     "name": "stdout",
     "output_type": "stream",
     "text": [
      "12.0\n"
     ]
    }
   ],
   "source": [
    "\n",
    "area_x = np.trapz(xnp, dx=3)\n",
    "print(area_x)"
   ]
  },
  {
   "cell_type": "code",
   "execution_count": 6,
   "metadata": {},
   "outputs": [
    {
     "name": "stdout",
     "output_type": "stream",
     "text": [
      "36.0\n"
     ]
    }
   ],
   "source": [
    "area_y = np.trapz(ynp, dx=3)\n",
    "print(area_y)"
   ]
  },
  {
   "cell_type": "code",
   "execution_count": 7,
   "metadata": {},
   "outputs": [
    {
     "name": "stdout",
     "output_type": "stream",
     "text": [
      "[0.08333333 0.16666667 0.25      ]\n"
     ]
    }
   ],
   "source": [
    "new_x = xnp/area_x\n",
    "# new_np_x = np.trapz(new_x, dx=3)\n",
    "print(new_x)"
   ]
  },
  {
   "cell_type": "code",
   "execution_count": 8,
   "metadata": {},
   "outputs": [
    {
     "name": "stdout",
     "output_type": "stream",
     "text": [
      "[0.11111111 0.16666667 0.22222222]\n"
     ]
    }
   ],
   "source": [
    "new_y = ynp/area_y\n",
    "# new_np_y = np.trapz(new_y, dx=3)\n",
    "print(new_y)"
   ]
  },
  {
   "cell_type": "markdown",
   "metadata": {},
   "source": [
    "Practice using np.trapz"
   ]
  },
  {
   "cell_type": "code",
   "execution_count": 14,
   "metadata": {},
   "outputs": [
    {
     "name": "stdout",
     "output_type": "stream",
     "text": [
      "7.0\n"
     ]
    },
    {
     "data": {
      "text/plain": [
       "7"
      ]
     },
     "execution_count": 14,
     "metadata": {},
     "output_type": "execute_result"
    }
   ],
   "source": [
    "x = [1, 2]\n",
    "y = [3, 4]\n",
    "xnp = np.trapz([3,4], x = [0,1,2])\n",
    "print(xnp)\n",
    "np.sum(y)"
   ]
  },
  {
   "cell_type": "code",
   "execution_count": 39,
   "metadata": {},
   "outputs": [
    {
     "name": "stdout",
     "output_type": "stream",
     "text": [
      "20.0\n"
     ]
    }
   ],
   "source": [
    "s = [1, 2, 4, 5]\n",
    "t = [3, 4, 6, 7]\n",
    "np.sum(t)\n",
    "ynp = np.trapz(t, s)\n",
    "print(ynp)"
   ]
  },
  {
   "cell_type": "code",
   "execution_count": 41,
   "metadata": {},
   "outputs": [
    {
     "name": "stdout",
     "output_type": "stream",
     "text": [
      "80.0\n"
     ]
    }
   ],
   "source": [
    "s = [10, 11, 12, 14]\n",
    "t = [20, 20, 20, 20]\n",
    "ynp = np.trapz(t, s)\n",
    "print(ynp)"
   ]
  },
  {
   "cell_type": "code",
   "execution_count": 54,
   "metadata": {},
   "outputs": [
    {
     "name": "stdout",
     "output_type": "stream",
     "text": [
      "100.0\n"
     ]
    }
   ],
   "source": [
    "s = [12, 13, 14, 15, 17]\n",
    "t = [20, 20, 20, 20, 20]\n",
    "ynp = np.trapz(t, s)\n",
    "print(ynp)"
   ]
  },
  {
   "cell_type": "markdown",
   "metadata": {},
   "source": [
    "## Practice using integral for one bin. Using np.trapz to solve summation in aij equation "
   ]
  },
  {
   "cell_type": "markdown",
   "metadata": {},
   "source": [
    "For x, use wavelengths corresponding to 10-nm bins and for y use the corresponding photons for excitation related to the x wavelengths. "
   ]
  },
  {
   "cell_type": "code",
   "execution_count": 142,
   "metadata": {},
   "outputs": [
    {
     "name": "stdout",
     "output_type": "stream",
     "text": [
      "Np.trapz estimated summation: about 54.184999999999995 photons\n"
     ]
    }
   ],
   "source": [
    "# use np.trapz to calculate i = 10\n",
    "x = list(range(550, 560))\n",
    "y = [5.78, 5.83, 5.88, 5.94, 5.99, 6.04, 6.09, 6.15, 6.23, 6.29]\n",
    "X= [float(x) for x in x]\n",
    "val = np.trapz(y)\n",
    "print('Np.trapz estimated summation: about', val, 'photons')"
   ]
  },
  {
   "cell_type": "code",
   "execution_count": 144,
   "metadata": {},
   "outputs": [
    {
     "name": "stdout",
     "output_type": "stream",
     "text": [
      "Np.trapz estimated summation: about 41.015 photons\n"
     ]
    }
   ],
   "source": [
    "# use np.trapz to calculate i = 15\n",
    "x = list(range(600, 610))\n",
    "y = [6.39, 6.01, 5.57, 5.12, 4.70, 4.30, 3.93, 3.56, 3.19, 2.88]\n",
    "val = np.trapz(y) #don't need to put x in np.trapz if the dx = 1 (difference between intervals on x axis)\n",
    "print('Np.trapz estimated summation: about', val, 'photons')"
   ]
  },
  {
   "cell_type": "markdown",
   "metadata": {},
   "source": [
    "Practice calculating $a_{ij}$ using np.trapz and random constant variables "
   ]
  },
  {
   "cell_type": "code",
   "execution_count": 149,
   "metadata": {},
   "outputs": [
    {
     "name": "stdout",
     "output_type": "stream",
     "text": [
      "aij = about 2194492.5 photons\n"
     ]
    }
   ],
   "source": [
    "# use np.trapz to calculate a_ij for i = 10 and j = 1\n",
    "em_minmax = list(range(550, 560))\n",
    "t_summation = [5.78, 5.83, 5.88, 5.94, 5.99, 6.04, 6.09, 6.15, 6.23, 6.29]\n",
    "s = np.trapz(t_summation)\n",
    "\n",
    "k = 1\n",
    "b = 100\n",
    "t = 405 #should this still be 405? or should i also write this in photons and not in wavelength(nm)? What value would i use for photons?\n",
    "d = 10\n",
    "aij = k*b*t*s\n",
    "print('aij = about', aij, 'photons')"
   ]
  },
  {
   "cell_type": "code",
   "execution_count": 148,
   "metadata": {},
   "outputs": [
    {
     "name": "stdout",
     "output_type": "stream",
     "text": [
      "aij = about 2531035.65 photons\n"
     ]
    }
   ],
   "source": [
    "# use np.trapz to calculate a_ij for i = 15 and j = 1\n",
    "em_minmax = list(range(600, 610))\n",
    "t_summation = [6.39, 6.01, 5.57, 5.12, 4.70, 4.30, 3.93, 3.56, 3.19, 2.88]\n",
    "s = np.trapz(t_summation)\n",
    "\n",
    "k = 1\n",
    "b = 110\n",
    "t = 561 #should this still be 561? or should i also write this in photons and not in wavelength(nm)? What value would i use for photons?\n",
    "d = 10\n",
    "aij = k*b*t*s\n",
    "print('aij = about', aij, 'photons')"
   ]
  },
  {
   "cell_type": "markdown",
   "metadata": {},
   "source": [
    "Practice importing data and using subarrays to solve matrix A"
   ]
  },
  {
   "cell_type": "code",
   "execution_count": 150,
   "metadata": {},
   "outputs": [],
   "source": [
    "import pandas as pd \n",
    "import os"
   ]
  },
  {
   "cell_type": "code",
   "execution_count": 151,
   "metadata": {},
   "outputs": [
    {
     "data": {
      "text/plain": [
       "['Normalizing Data.ipynb',\n",
       " 'mTagBFP2_fpbase_spectra.csv',\n",
       " 'README.md',\n",
       " 'Imaging Model.ipynb',\n",
       " 'mEmerald_fpbase_spectra.csv',\n",
       " 'mCherry_fpbase_spectra.csv',\n",
       " '.ipynb_checkpoints',\n",
       " '.git',\n",
       " 'mNeptune2p5_fbpase_spectra.csv',\n",
       " 'spect1.pdf']"
      ]
     },
     "execution_count": 151,
     "metadata": {},
     "output_type": "execute_result"
    }
   ],
   "source": [
    "os.listdir()"
   ]
  },
  {
   "cell_type": "code",
   "execution_count": 153,
   "metadata": {},
   "outputs": [
    {
     "data": {
      "text/html": [
       "<div>\n",
       "<style scoped>\n",
       "    .dataframe tbody tr th:only-of-type {\n",
       "        vertical-align: middle;\n",
       "    }\n",
       "\n",
       "    .dataframe tbody tr th {\n",
       "        vertical-align: top;\n",
       "    }\n",
       "\n",
       "    .dataframe thead th {\n",
       "        text-align: right;\n",
       "    }\n",
       "</style>\n",
       "<table border=\"1\" class=\"dataframe\">\n",
       "  <thead>\n",
       "    <tr style=\"text-align: right;\">\n",
       "      <th></th>\n",
       "      <th>wavelength</th>\n",
       "      <th>mTagBFP2 ex</th>\n",
       "      <th>mTagBFP2 em</th>\n",
       "    </tr>\n",
       "  </thead>\n",
       "  <tbody>\n",
       "    <tr>\n",
       "      <th>0</th>\n",
       "      <td>310</td>\n",
       "      <td>0.0205</td>\n",
       "      <td>NaN</td>\n",
       "    </tr>\n",
       "    <tr>\n",
       "      <th>1</th>\n",
       "      <td>311</td>\n",
       "      <td>0.0203</td>\n",
       "      <td>NaN</td>\n",
       "    </tr>\n",
       "    <tr>\n",
       "      <th>2</th>\n",
       "      <td>312</td>\n",
       "      <td>0.0200</td>\n",
       "      <td>NaN</td>\n",
       "    </tr>\n",
       "    <tr>\n",
       "      <th>3</th>\n",
       "      <td>313</td>\n",
       "      <td>0.0195</td>\n",
       "      <td>NaN</td>\n",
       "    </tr>\n",
       "    <tr>\n",
       "      <th>4</th>\n",
       "      <td>314</td>\n",
       "      <td>0.0189</td>\n",
       "      <td>NaN</td>\n",
       "    </tr>\n",
       "    <tr>\n",
       "      <th>...</th>\n",
       "      <td>...</td>\n",
       "      <td>...</td>\n",
       "      <td>...</td>\n",
       "    </tr>\n",
       "    <tr>\n",
       "      <th>336</th>\n",
       "      <td>646</td>\n",
       "      <td>NaN</td>\n",
       "      <td>0.0015</td>\n",
       "    </tr>\n",
       "    <tr>\n",
       "      <th>337</th>\n",
       "      <td>647</td>\n",
       "      <td>NaN</td>\n",
       "      <td>0.0014</td>\n",
       "    </tr>\n",
       "    <tr>\n",
       "      <th>338</th>\n",
       "      <td>648</td>\n",
       "      <td>NaN</td>\n",
       "      <td>0.0014</td>\n",
       "    </tr>\n",
       "    <tr>\n",
       "      <th>339</th>\n",
       "      <td>649</td>\n",
       "      <td>NaN</td>\n",
       "      <td>0.0013</td>\n",
       "    </tr>\n",
       "    <tr>\n",
       "      <th>340</th>\n",
       "      <td>650</td>\n",
       "      <td>NaN</td>\n",
       "      <td>0.0013</td>\n",
       "    </tr>\n",
       "  </tbody>\n",
       "</table>\n",
       "<p>341 rows × 3 columns</p>\n",
       "</div>"
      ],
      "text/plain": [
       "     wavelength  mTagBFP2 ex  mTagBFP2 em\n",
       "0           310       0.0205          NaN\n",
       "1           311       0.0203          NaN\n",
       "2           312       0.0200          NaN\n",
       "3           313       0.0195          NaN\n",
       "4           314       0.0189          NaN\n",
       "..          ...          ...          ...\n",
       "336         646          NaN       0.0015\n",
       "337         647          NaN       0.0014\n",
       "338         648          NaN       0.0014\n",
       "339         649          NaN       0.0013\n",
       "340         650          NaN       0.0013\n",
       "\n",
       "[341 rows x 3 columns]"
      ]
     },
     "execution_count": 153,
     "metadata": {},
     "output_type": "execute_result"
    }
   ],
   "source": [
    "data = pd.read_csv('mTagBFP2_fpbase_spectra.csv')\n",
    "data"
   ]
  },
  {
   "cell_type": "code",
   "execution_count": 183,
   "metadata": {},
   "outputs": [
    {
     "name": "stdout",
     "output_type": "stream",
     "text": [
      "     wavelength  mTagBFP2 ex  mTagBFP2 em\n",
      "330         640          NaN       0.0018\n",
      "331         641          NaN       0.0017\n",
      "332         642          NaN       0.0016\n",
      "333         643          NaN       0.0016\n",
      "334         644          NaN       0.0016\n",
      "335         645          NaN       0.0015\n",
      "336         646          NaN       0.0015\n",
      "337         647          NaN       0.0014\n",
      "338         648          NaN       0.0014\n",
      "339         649          NaN       0.0013\n"
     ]
    }
   ],
   "source": [
    "#sliced_data = data.loc[[330, 331, 332, 333, 334, 335, 336, 337, 338, 339], :] \n",
    "sliced_data = data.loc[range(330,340), :]\n",
    "print(sliced_data)"
   ]
  },
  {
   "cell_type": "code",
   "execution_count": 175,
   "metadata": {},
   "outputs": [
    {
     "name": "stdout",
     "output_type": "stream",
     "text": [
      "330    0.0018\n",
      "331    0.0017\n",
      "332    0.0016\n",
      "333    0.0016\n",
      "334    0.0016\n",
      "335    0.0015\n",
      "336    0.0015\n",
      "337    0.0014\n",
      "338    0.0014\n",
      "339    0.0013\n",
      "Name: mTagBFP2 em, dtype: float64\n",
      "[18.0, 17.0, 16.0, 16.0, 16.0, 15.0, 15.0, 14.0, 14.0, 13.0]\n"
     ]
    }
   ],
   "source": [
    "sliced_emission = sliced_data.loc[:, 'mTagBFP2 em']\n",
    "multiplied = list(np.array(sliced_emission) * 10000)\n",
    "print(sliced_emission)\n",
    "print(multiplied)"
   ]
  },
  {
   "cell_type": "code",
   "execution_count": 180,
   "metadata": {},
   "outputs": [
    {
     "name": "stdout",
     "output_type": "stream",
     "text": [
      "aij = about 110800.0 photons\n"
     ]
    }
   ],
   "source": [
    "summation = np.trapz(multiplied)\n",
    "\n",
    "k = 1\n",
    "b = 1000\n",
    "t_ex = 0.8\n",
    "aij = k*b*t_ex*summation\n",
    "print('aij = about', aij, 'photons')"
   ]
  },
  {
   "cell_type": "markdown",
   "metadata": {},
   "source": [
    "## Function to solve $a_{ij}$ using only one user input being the min wavelength for the bin\n",
    "Using the emission spectra for mTagBFP2 protein "
   ]
  },
  {
   "cell_type": "code",
   "execution_count": 206,
   "metadata": {},
   "outputs": [
    {
     "name": "stdout",
     "output_type": "stream",
     "text": [
      "    wavelength  mTagBFP2 ex  mTagBFP2 em\n",
      "20         330       0.0240          0.0\n",
      "21         331       0.0256          0.0\n",
      "22         332       0.0273          0.0\n",
      "23         333       0.0290          0.0\n",
      "24         334       0.0310          0.0\n",
      "25         335       0.0335          0.0\n",
      "26         336       0.0364          0.0\n",
      "27         337       0.0394          0.0\n",
      "28         338       0.0426          0.0\n",
      "29         339       0.0462          0.0\n"
     ]
    }
   ],
   "source": [
    "data.fillna(0, inplace = True)\n",
    "lambda_min = int(input('Minimum wavelength (0 corresponds to wavelength 310): '))\n",
    "lambda_max = lambda_min + 10\n",
    "sliced_data = data.loc[range(lambda_min, lambda_max)]\n",
    "print(sliced_data)"
   ]
  },
  {
   "cell_type": "code",
   "execution_count": 203,
   "metadata": {},
   "outputs": [
    {
     "data": {
      "text/plain": [
       "[0.0, 0.0, 0.0, 0.0, 0.0, 0.0, 0.0, 0.0, 0.0, 0.0]"
      ]
     },
     "execution_count": 203,
     "metadata": {},
     "output_type": "execute_result"
    }
   ],
   "source": [
    "sliced_emission = sliced_data.loc[:, 'mTagBFP2 em']\n",
    "multiplied = list(np.array(sliced_emission) * 10000)\n",
    "multiplied"
   ]
  },
  {
   "cell_type": "code",
   "execution_count": 204,
   "metadata": {},
   "outputs": [
    {
     "name": "stdout",
     "output_type": "stream",
     "text": [
      "aij = about 0.0 photons\n"
     ]
    }
   ],
   "source": [
    "summation = np.trapz(multiplied)\n",
    "\n",
    "k = 1\n",
    "b = 1000\n",
    "t_ex = 0.8\n",
    "aij = k*b*t_ex*summation\n",
    "print('aij = about', aij, 'photons')"
   ]
  }
 ],
 "metadata": {
  "kernelspec": {
   "display_name": "Python 3.8.11 ('napari')",
   "language": "python",
   "name": "python3"
  },
  "language_info": {
   "codemirror_mode": {
    "name": "ipython",
    "version": 3
   },
   "file_extension": ".py",
   "mimetype": "text/x-python",
   "name": "python",
   "nbconvert_exporter": "python",
   "pygments_lexer": "ipython3",
   "version": "3.8.11"
  },
  "orig_nbformat": 4,
  "vscode": {
   "interpreter": {
    "hash": "ef733d4211753d2d81dce44047a71ce7522e7d0155b7cec50b9d690d9da74a4f"
   }
  }
 },
 "nbformat": 4,
 "nbformat_minor": 2
}
