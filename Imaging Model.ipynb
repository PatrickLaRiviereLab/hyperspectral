{
 "cells": [
  {
   "cell_type": "code",
   "execution_count": 14,
   "metadata": {},
   "outputs": [],
   "source": [
    "import pandas as pd\n",
    "import numpy as np\n",
    "import matplotlib.pyplot as plt"
   ]
  },
  {
   "cell_type": "markdown",
   "metadata": {},
   "source": [
    "### Reading dataframes for each protein into python \n",
    "Renaming columns to be easily accessable, normalizing the excitation and emission spectra, taking sum of column "
   ]
  },
  {
   "cell_type": "code",
   "execution_count": 15,
   "metadata": {},
   "outputs": [],
   "source": [
    "df_mEmerald = pd.read_csv('mEmerald_fpbase_spectra.csv')\n",
    "df_mEmerald.fillna(0, inplace = True)\n",
    "df_mTagBFP2 = pd.read_csv('mTagBFP2_fpbase_spectra.csv')\n",
    "df_mTagBFP2.fillna(0, inplace = True)\n",
    "df_mCherry = pd.read_csv('mCherry_fpbase_spectra.csv')\n",
    "df_mCherry.fillna(0, inplace = True)\n",
    "df_mNeptune2p5 = pd.read_csv('mNeptune2p5_fbpase_spectra.csv')\n",
    "df_mNeptune2p5.fillna(0, inplace = True)\n",
    "\n",
    "mEmerald_columns = df_mEmerald.rename(columns ={'mEmerald ex': 'excitation', 'mEmerald em': 'emission'})\n",
    "mTagBFP2_columns = df_mTagBFP2.rename(columns ={'mTagBFP2 ex': 'excitation', 'mTagBFP2 em': 'emission'})\n",
    "mCherry_columns = df_mCherry.rename(columns ={'mCherry ex': 'excitation', 'mCherry em': 'emission'})\n",
    "mNeptune2p5_columns = df_mNeptune2p5.rename(columns ={'mNeptune2.5 ex': 'excitation', 'mNeptune2.5 em': 'emission'})\n",
    "\n",
    "spectra_list = [mEmerald_columns, mTagBFP2_columns, mCherry_columns, mNeptune2p5_columns]\n",
    "for j in range(0,4):\n",
    "    excitation_column = spectra_list[j]['excitation']\n",
    "    area = np.trapz(excitation_column, dx = 1)\n",
    "    normalized = excitation_column/area\n",
    "    excitation_column = normalized\n",
    "    spectra_list[j]['excitation'] = normalized\n",
    "    new_area = np.trapz(excitation_column, dx = 1)\n",
    "    column = spectra_list[j]['emission']\n",
    "    area_emission = np.trapz(column, dx = 1)\n",
    "    normalized_em = column/area_emission\n",
    "    column = normalized_em\n",
    "    spectra_list[j]['emission'] = normalized_em\n",
    "    new_area_em = np.trapz(column, dx = 1)"
   ]
  },
  {
   "cell_type": "markdown",
   "metadata": {},
   "source": [
    "### Making sure each spectra dataframe has data for 400-900nm"
   ]
  },
  {
   "cell_type": "code",
   "execution_count": 16,
   "metadata": {},
   "outputs": [],
   "source": [
    "wavelength = 701\n",
    "for index in range(401, 601):\n",
    "    mEmerald_columns.loc[len(mEmerald_columns.index)] = [wavelength, 0.0, 0.0]\n",
    "    wavelength = wavelength + 1\n",
    "\n",
    "wavelength = 651\n",
    "for index in range(341, 591):\n",
    "    mTagBFP2_columns.loc[len(mTagBFP2_columns.index)] = [wavelength, 0.0, 0.0]\n",
    "    wavelength = wavelength + 1\n",
    "\n",
    "wavelength = 851\n",
    "for index in range(621, 671):\n",
    "    mNeptune2p5_columns.loc[len(mNeptune2p5_columns.index)] = [wavelength, 0.0, 0.0]\n",
    "    wavelength = wavelength + 1"
   ]
  },
  {
   "cell_type": "markdown",
   "metadata": {},
   "source": [
    "### Function to solve emission bin area using i and j \n",
    "Corresponding lambda_min and lambda_max to the min and max wavelengths in channel i in a list of the 200 total bins "
   ]
  },
  {
   "cell_type": "code",
   "execution_count": 17,
   "metadata": {},
   "outputs": [],
   "source": [
    "spectra_list = [mEmerald_columns, mTagBFP2_columns, mCherry_columns, mNeptune2p5_columns]\n",
    "\n",
    "def calc_emission_bin(i, j):\n",
    "    bins_list = [*range(400, 900, 10)]\n",
    "    total_bins = 4*bins_list \n",
    "    df_spectra = spectra_list[j]\n",
    "    lambda_min = total_bins[i]\n",
    "    lambda_max = lambda_min + 10\n",
    "    bin_i = range(lambda_min, lambda_max)\n",
    "    df_sliced_data = df_spectra.loc[df_spectra['wavelength'].isin(bin_i)]\n",
    "    # print(df_sliced_data)\n",
    "    sliced_data_emmision = df_sliced_data['emission']\n",
    "    emission_bin = np.trapz(sliced_data_emmision)\n",
    "    # print('Emission bin sum for i = ', i, 'and j = ', j, 'is', emission_bin)\n",
    "    return emission_bin"
   ]
  },
  {
   "cell_type": "markdown",
   "metadata": {},
   "source": [
    "### Function to calculate the excitation values from the illumination wavelengths\n",
    "Figure out how to go into csv and grab the specific excitation values from the dataframe that you found earlier. Can use for loop and/or a function. \n",
    "\n",
    "Excitation value corresponding to excitation wavelengths for each protein: 405nm, 488nm, 561nm, 637nm. Found these values on csv files"
   ]
  },
  {
   "cell_type": "code",
   "execution_count": 18,
   "metadata": {},
   "outputs": [],
   "source": [
    "mEmerald_excitation = [0.1732, 0.9982, 0.0043, 0.0027]\n",
    "mTag_excitation = [0.9588, 0, 0, 0]\n",
    "mCherry_excitation = [0.0198, 0.0762, 0.6394, 0.0067]\n",
    "mNeptune_excitation = [0.0279, 0.0717, 0.5819, 0.1519]"
   ]
  },
  {
   "cell_type": "code",
   "execution_count": 19,
   "metadata": {},
   "outputs": [
    {
     "data": {
      "text/plain": [
       "0.0003359525187106889"
      ]
     },
     "execution_count": 19,
     "metadata": {},
     "output_type": "execute_result"
    }
   ],
   "source": [
    "def calc_excitation(i, j): \n",
    "    illumation_wavelength_list = [405, 488, 561, 637]\n",
    "    if 0 <= i < 50: \n",
    "        illumation_wavelength = illumation_wavelength_list[0]\n",
    "    elif 50 <= i < 100: \n",
    "        illumation_wavelength = illumation_wavelength_list[1]\n",
    "    elif 100 <= i < 150:\n",
    "        illumation_wavelength = illumation_wavelength_list[2]\n",
    "    elif 150 <= i < 200:\n",
    "        illumation_wavelength = illumation_wavelength_list[3]\n",
    "    else:\n",
    "        print('Invalid i value')\n",
    "    df_sliced = spectra_list[j].loc[spectra_list[j]['wavelength'] == illumation_wavelength]\n",
    "    excitation_wavelength = df_sliced['excitation'].iloc[0]\n",
    "    return excitation_wavelength\n",
    "\n",
    "\n",
    "calc_excitation(2, 3)"
   ]
  },
  {
   "cell_type": "markdown",
   "metadata": {},
   "source": [
    "### Function to index over brightness values using a given j \n",
    "Found brightness values on slack "
   ]
  },
  {
   "cell_type": "code",
   "execution_count": 20,
   "metadata": {},
   "outputs": [],
   "source": [
    "def calc_brightness(j):\n",
    "    brightness_list = [39.1, 32.38, 15.85, 22.8]\n",
    "    brightness = brightness_list[j]\n",
    "    # print('Brightness value for j = ', j, 'is', brightness)\n",
    "    return brightness"
   ]
  },
  {
   "cell_type": "markdown",
   "metadata": {},
   "source": [
    "### Function for the variable $k_i$\n",
    "We are trying to give each fluorophore a fair chance. Each of our illumination wavelengths is targetted mainly at a specific fluorophore. Experimentally, we can choose the illumination strengths. So, we want to balance out our illumination strengths so that a similar amount of information (photons) is collected from each fluorophore emissions.\n",
    "\n",
    "Depends on the channel--each set of 50 channels will have a different $k_i$. Could make it depend on the brightnesses."
   ]
  },
  {
   "cell_type": "code",
   "execution_count": 21,
   "metadata": {},
   "outputs": [
    {
     "data": {
      "text/plain": [
       "1.4280318240240864e-06"
      ]
     },
     "execution_count": 21,
     "metadata": {},
     "output_type": "execute_result"
    }
   ],
   "source": [
    "def calc_a_constant_k(i, j):\n",
    "    k = 1\n",
    "    brightness_value = calc_brightness(j)\n",
    "    excitation_value = calc_excitation(i, j)\n",
    "    emission_bin_area = calc_emission_bin(i, j)\n",
    "    a = k * brightness_value * excitation_value * emission_bin_area\n",
    "    # print('Matrix A for image channel i = ', i, ' and spectrum j = ', j, 'is ', a)\n",
    "    return a\n",
    "\n",
    "calc_a_constant_k(15, 2)"
   ]
  },
  {
   "cell_type": "markdown",
   "metadata": {},
   "source": [
    "### For loop for matrix A"
   ]
  },
  {
   "cell_type": "code",
   "execution_count": 22,
   "metadata": {},
   "outputs": [],
   "source": [
    "def form_A(k_dependence=True):\n",
    "    A = np.zeros((200, 4)) # 200 rows (horizontal), 4 columns (vertical)\n",
    "    for j in range(0, 4):\n",
    "        for i in range(0, 200):\n",
    "            if k_dependence:\n",
    "                A[i, j] = calc_a(i, j)\n",
    "            else:\n",
    "                A[i, j] = calc_a_constant_k(i, j)\n",
    "    return A"
   ]
  },
  {
   "cell_type": "code",
   "execution_count": 23,
   "metadata": {},
   "outputs": [],
   "source": [
    "A_constant_k = form_A(k_dependence=False)\n",
    "\n",
    "illumination_one = A_constant_k[0:49, 0:3]\n",
    "illumination_two = A_constant_k[50:99, 0:3]\n",
    "illumination_three = A_constant_k[100:149, 0:3]\n",
    "illumination_four = A_constant_k[150:199, 0:3]"
   ]
  },
  {
   "cell_type": "code",
   "execution_count": 24,
   "metadata": {},
   "outputs": [],
   "source": [
    "def calc_k(i, j):\n",
    "    spectra_list = [mEmerald_columns, mTagBFP2_columns, mCherry_columns, mNeptune2p5_columns]\n",
    "    illumination_wavelengths = [405, 488, 561, 637]\n",
    "    brightness_list = [39.1, 32.38, 15.85, 22.8]\n",
    "    brightness = brightness_list[j]\n",
    "    method = 'Inverse of avg detected photons'\n",
    "    if method == 'small if large b':\n",
    "        m = 5\n",
    "        if 0 <= i < 50:\n",
    "            k = 1 / (.95 * m)\n",
    "        elif 50 <= i < 100:\n",
    "            k = 1 / (.94 * m)\n",
    "        elif 100 <= i < 150:\n",
    "            k = 1 / (.92 * m)\n",
    "        elif 150 <= i < 200:\n",
    "            k = 1 / (.93 * m)\n",
    "    elif method == 'scale by b':\n",
    "        k = 1 / brightness\n",
    "    elif method == 'using max aij/make \"K\" all ones': \n",
    "        # Values came from the highest number out of all four fluorophores in Matrix A corresponding to that illumination wavelength \n",
    "        if 0 <= i < 50:\n",
    "            k = 1 / calc_a_constant_k(5 ,1)\n",
    "        elif 50 <= i < 100:\n",
    "            k = 1 / calc_a_constant_k(61 ,0)\n",
    "        elif 100 <= i < 150:\n",
    "            k = 1 / calc_a_constant_k(124 ,3) ##One of these fluorophores should be 2. Shouldn't have two maximums be fluorophore three\n",
    "        elif 150 <= i < 200:\n",
    "            k = 1 / calc_a_constant_k(174 ,3)\n",
    "    elif method == 'using good k value':\n",
    "        if 0 <= i < 50:\n",
    "            k = 1 / calc_a_constant_k(i ,j)\n",
    "        elif 50 <= i < 100:\n",
    "            k = 1 / (.94 * m)\n",
    "        elif 100 <= i < 150:\n",
    "            k = 1 / (.92 * m)\n",
    "        elif 150 <= i < 200:\n",
    "            k = 1 / (.93 * m)\n",
    "        # not completed yet, needs replacing of code\n",
    "    elif method == 'Inverse of avg detected photons':\n",
    "        if 0<= i < 50: \n",
    "            sliced_average = np.average(illumination_one)\n",
    "            k = 1/sliced_average \n",
    "        elif 50<= i < 100:\n",
    "            sliced_average = np.average(illumination_two)\n",
    "            k = 1/sliced_average \n",
    "        elif 100<= i < 150:\n",
    "            sliced_average = np.average(illumination_three)\n",
    "            k = 1/sliced_average \n",
    "        elif 150<= i < 200:\n",
    "            sliced_average = np.average(illumination_four)\n",
    "            k = 1/sliced_average \n",
    "    else:\n",
    "        k = 1\n",
    "    return k\n",
    "\n",
    "calc_k(10, 0)\n",
    "\n",
    "B = np.zeros((200, 4)) ##200 rows (horizontal), 4 columns (vertical)\n",
    "\n",
    "for j in range(0, 4):\n",
    "    for i in range(0, 200):\n",
    "        B[i, j] = calc_k(i, j)\n",
    "\n",
    "# print(B)"
   ]
  },
  {
   "cell_type": "markdown",
   "metadata": {},
   "source": [
    "### Function to solve for matrix A just inputting i and j value \n",
    "All above functions called in this function to reduce reduncancy in solving for the matrix value"
   ]
  },
  {
   "cell_type": "code",
   "execution_count": 25,
   "metadata": {},
   "outputs": [
    {
     "data": {
      "text/plain": [
       "0.00032611192620574407"
      ]
     },
     "execution_count": 25,
     "metadata": {},
     "output_type": "execute_result"
    }
   ],
   "source": [
    "def calc_a(i, j):\n",
    "    k = calc_k(i, j)\n",
    "    brightness_value = calc_brightness(j)\n",
    "    excitation_value = calc_excitation(i, j)\n",
    "    emission_bin_area = calc_emission_bin(i, j)\n",
    "    a = k * brightness_value * excitation_value * emission_bin_area\n",
    "    # print('Matrix A for image channel i = ', i, ' and spectrum j = ', j, 'is ', a)\n",
    "    return a\n",
    "\n",
    "calc_a(15, 2)"
   ]
  },
  {
   "cell_type": "markdown",
   "metadata": {},
   "source": [
    "### How to save array as csv"
   ]
  },
  {
   "cell_type": "code",
   "execution_count": 26,
   "metadata": {},
   "outputs": [],
   "source": [
    "# np.savetxt(\"Matrix A.csv\", A, delimiter=\",\")"
   ]
  },
  {
   "cell_type": "markdown",
   "metadata": {},
   "source": [
    "Turning dataframe into csv"
   ]
  },
  {
   "cell_type": "code",
   "execution_count": 27,
   "metadata": {},
   "outputs": [],
   "source": [
    "# mEmerald_columns.to_csv('mEmerald_columns 1')"
   ]
  },
  {
   "cell_type": "markdown",
   "metadata": {},
   "source": [
    "### Create a vector consisting of some concentration of each fluorophore\n",
    "The concentrations don't have to all be the same. Modeling our imaging system -- using one of each fluorophore in this example. Each index corresponds to a fluorophore"
   ]
  },
  {
   "cell_type": "code",
   "execution_count": 28,
   "metadata": {},
   "outputs": [],
   "source": [
    "x = [1, 1, 1, 1] ##might have to switch orientation if error (transpose)"
   ]
  },
  {
   "cell_type": "markdown",
   "metadata": {},
   "source": [
    "### Function to calculate FOM from A and x \n",
    "1. Multiplying Matrix A by Vector x (calculating the measurements of y using imaging model)\n",
    "2. Transposing A using simple command '.T'\n",
    "3. Creating diagonal matrix of 1/y\n",
    "4. Multiply all three matrices and compute the fisher information matrix\n",
    "5. Inversing the fisher information matrix. \n",
    "6. Take out all the diagonal elements in the fisher information matrix (these are the CRLB numbers).\n",
    "7. Square root all the CRLB numbers.\n",
    "8. Divide the fluorophore concentrations by the square-rooted CRLB numbers (would have to change code if don't use 1 for each concentration)"
   ]
  },
  {
   "cell_type": "markdown",
   "metadata": {},
   "source": [
    "If you inverse the fisher information matrix and multiply it by the initial fisher information matrix, should get a diagonal matrix of all 1's on the diagonal (and the rest of the elements should be 0. Ours are very small numbers that would round to zero).\n",
    "\n",
    "i.e. (idk = FIM_inverse @ FIM) should result in that"
   ]
  },
  {
   "cell_type": "code",
   "execution_count": 32,
   "metadata": {},
   "outputs": [
    {
     "name": "stderr",
     "output_type": "stream",
     "text": [
      "/var/folders/jt/_z0pnbx50rs5xql_tz09rgq00000gn/T/ipykernel_9130/254424344.py:5: RuntimeWarning: divide by zero encountered in true_divide\n",
      "  FIM_y = 1/y\n"
     ]
    }
   ],
   "source": [
    "def calc_FOM(A, x):\n",
    "    y = A @ x \n",
    "    y_reshaped = np.reshape(y, (200, 1))\n",
    "    transposed_A = A.T\n",
    "    FIM_y = 1/y\n",
    "    FIM_y[FIM_y == np.inf] = 0\n",
    "    diagonal_matrix = np.diag(FIM_y)\n",
    "    FIM = transposed_A @ diagonal_matrix @ A\n",
    "    FIM_inverse = np.linalg.inv(FIM)\n",
    "    CRLB_0 = FIM_inverse[0,0] \n",
    "    CRLB_1 = FIM_inverse[1,1]\n",
    "    CRLB_2 = FIM_inverse[2,2]\n",
    "    CRLB_3 = FIM_inverse[3,3]\n",
    "    CRLB_list = [CRLB_0, CRLB_1, CRLB_2, CRLB_3]\n",
    "    sqrt_CRLB_list = np.sqrt(CRLB_list)\n",
    "    FOM_list = [1/i for i in sqrt_CRLB_list] #would have to change this line of code if don't use 1 for each concentration\n",
    "    return FOM_list\n",
    "\n",
    "A = form_A()\n",
    "FOM_list = calc_FOM(A, x)"
   ]
  },
  {
   "cell_type": "markdown",
   "metadata": {},
   "source": [
    "### Plotting FOMs versus the fluorophore name using matplotlib"
   ]
  },
  {
   "cell_type": "code",
   "execution_count": 33,
   "metadata": {},
   "outputs": [
    {
     "data": {
      "text/plain": [
       "Text(0, 0.5, 'FOM Values')"
      ]
     },
     "execution_count": 33,
     "metadata": {},
     "output_type": "execute_result"
    },
    {
     "data": {
      "image/png": "[encoded data removed]",
      "text/plain": [
       "<Figure size 432x288 with 1 Axes>"
      ]
     },
     "metadata": {
      "needs_background": "light"
     },
     "output_type": "display_data"
    }
   ],
   "source": [
    "protein_names = ['mEmerald', 'mTagBFP2', 'mCherry', 'mNeptune2.5']\n",
    "plt.scatter(protein_names, FOM_list)\n",
    "plt.xlabel('Protein Names')\n",
    "plt.ylabel('FOM Values')"
   ]
  },
  {
   "cell_type": "markdown",
   "metadata": {},
   "source": [
    "### Using bar chart"
   ]
  },
  {
   "cell_type": "code",
   "execution_count": 35,
   "metadata": {},
   "outputs": [
    {
     "data": {
      "text/plain": [
       "Text(0.5, 1.0, 'Plotting FOMs versus Fluorphore Names')"
      ]
     },
     "execution_count": 35,
     "metadata": {},
     "output_type": "execute_result"
    },
    {
     "data": {
      "image/png": "[encoded data removed]",
      "text/plain": [
       "<Figure size 432x288 with 1 Axes>"
      ]
     },
     "metadata": {
      "needs_background": "light"
     },
     "output_type": "display_data"
    }
   ],
   "source": [
    "axis = [1, 2, 3, 4]\n",
    "plt.bar(axis, FOM_list, tick_label = protein_names, width = 0.8, color = 'orange')\n",
    "plt.xlabel('Protein Names')\n",
    "plt.ylabel('FOM Values')\n",
    "plt.title('Plotting FOMs versus Fluorphore Names')"
   ]
  }
 ],
 "metadata": {
  "kernelspec": {
   "display_name": "Python 3.9.12 ('base')",
   "language": "python",
   "name": "python3"
  },
  "language_info": {
   "codemirror_mode": {
    "name": "ipython",
    "version": 3
   },
   "file_extension": ".py",
   "mimetype": "text/x-python",
   "name": "python",
   "nbconvert_exporter": "python",
   "pygments_lexer": "ipython3",
   "version": "3.9.12"
  },
  "orig_nbformat": 4,
  "vscode": {
   "interpreter": {
    "hash": "d801b28d0c2f9341eaf08410a8d5dd8d794b8daecaeee8ba55dd2443d2219971"
   }
  }
 },
 "nbformat": 4,
 "nbformat_minor": 2
}
