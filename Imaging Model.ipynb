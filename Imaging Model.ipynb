{
 "cells": [
  {
   "cell_type": "markdown",
   "metadata": {},
   "source": [
    "Here we calculate the matrix $A$ for the imaging model $y = Ax$. Each element of the matrix $A$ is\n",
    "$$ a_{ij} = k_i b_j t_j^{ex}(\\lambda_i)\\int_{\\lambda_{i,min}^{em}}^{\\lambda_{i,max}^{em}} t_j^{ex}(\\lambda) d\\lambda$$\n",
    "We begin by fixing an $i$ and $j$ to calculate one specific element."
   ]
  },
  {
   "cell_type": "code",
   "execution_count": 3,
   "metadata": {},
   "outputs": [],
   "source": [
    "import numpy as np\n",
    "import matplotlib.pyplot as plt"
   ]
  },
  {
   "cell_type": "markdown",
   "metadata": {},
   "source": [
    "Simple integral for practice and normalizing"
   ]
  },
  {
   "cell_type": "code",
   "execution_count": 4,
   "metadata": {},
   "outputs": [],
   "source": [
    "\n",
    "x = [1, 2, 3]\n",
    "y = [4, 6, 8]\n",
    "xnp = np.array(x)\n",
    "ynp = np.array(y)\n"
   ]
  },
  {
   "cell_type": "code",
   "execution_count": 5,
   "metadata": {},
   "outputs": [
    {
     "name": "stdout",
     "output_type": "stream",
     "text": [
      "12.0\n"
     ]
    }
   ],
   "source": [
    "\n",
    "area_x = np.trapz(xnp, dx=3)\n",
    "print(area_x)"
   ]
  },
  {
   "cell_type": "code",
   "execution_count": 6,
   "metadata": {},
   "outputs": [
    {
     "name": "stdout",
     "output_type": "stream",
     "text": [
      "36.0\n"
     ]
    }
   ],
   "source": [
    "area_y = np.trapz(ynp, dx=3)\n",
    "print(area_y)"
   ]
  },
  {
   "cell_type": "code",
   "execution_count": 7,
   "metadata": {},
   "outputs": [
    {
     "name": "stdout",
     "output_type": "stream",
     "text": [
      "[0.08333333 0.16666667 0.25      ]\n"
     ]
    }
   ],
   "source": [
    "new_x = xnp/area_x\n",
    "# new_np_x = np.trapz(new_x, dx=3)\n",
    "print(new_x)"
   ]
  },
  {
   "cell_type": "code",
   "execution_count": 8,
   "metadata": {},
   "outputs": [
    {
     "name": "stdout",
     "output_type": "stream",
     "text": [
      "[0.11111111 0.16666667 0.22222222]\n"
     ]
    }
   ],
   "source": [
    "new_y = ynp/area_y\n",
    "# new_np_y = np.trapz(new_y, dx=3)\n",
    "print(new_y)"
   ]
  },
  {
   "cell_type": "markdown",
   "metadata": {},
   "source": [
    "Practice using np.trapz"
   ]
  },
  {
   "cell_type": "code",
   "execution_count": 14,
   "metadata": {},
   "outputs": [
    {
     "name": "stdout",
     "output_type": "stream",
     "text": [
      "7.0\n"
     ]
    },
    {
     "data": {
      "text/plain": [
       "7"
      ]
     },
     "execution_count": 14,
     "metadata": {},
     "output_type": "execute_result"
    }
   ],
   "source": [
    "x = [1, 2]\n",
    "y = [3, 4]\n",
    "xnp = np.trapz([3,4], x = [0,1,2])\n",
    "print(xnp)\n",
    "np.sum(y)"
   ]
  },
  {
   "cell_type": "code",
   "execution_count": 39,
   "metadata": {},
   "outputs": [
    {
     "name": "stdout",
     "output_type": "stream",
     "text": [
      "20.0\n"
     ]
    }
   ],
   "source": [
    "s = [1, 2, 4, 5]\n",
    "t = [3, 4, 6, 7]\n",
    "np.sum(t)\n",
    "ynp = np.trapz(t, s)\n",
    "print(ynp)"
   ]
  },
  {
   "cell_type": "code",
   "execution_count": 41,
   "metadata": {},
   "outputs": [
    {
     "name": "stdout",
     "output_type": "stream",
     "text": [
      "80.0\n"
     ]
    }
   ],
   "source": [
    "s = [10, 11, 12, 14]\n",
    "t = [20, 20, 20, 20]\n",
    "ynp = np.trapz(t, s)\n",
    "print(ynp)"
   ]
  },
  {
   "cell_type": "code",
   "execution_count": 54,
   "metadata": {},
   "outputs": [
    {
     "name": "stdout",
     "output_type": "stream",
     "text": [
      "100.0\n"
     ]
    }
   ],
   "source": [
    "s = [12, 13, 14, 15, 17]\n",
    "t = [20, 20, 20, 20, 20]\n",
    "ynp = np.trapz(t, s)\n",
    "print(ynp)"
   ]
  },
  {
   "cell_type": "markdown",
   "metadata": {},
   "source": [
    "Practice using integral for one bin. Using np.trapz to solve summation in aij equation "
   ]
  },
  {
   "cell_type": "markdown",
   "metadata": {},
   "source": [
    "For x, use wavelengths corresponding to 10-nm bins and for y use the corresponding photons for excitation related to the x wavelengths. "
   ]
  },
  {
   "cell_type": "code",
   "execution_count": 142,
   "metadata": {},
   "outputs": [
    {
     "name": "stdout",
     "output_type": "stream",
     "text": [
      "Np.trapz estimated summation: about 54.184999999999995 photons\n"
     ]
    }
   ],
   "source": [
    "# use np.trapz to calculate i = 10\n",
    "x = list(range(550, 560))\n",
    "y = [5.78, 5.83, 5.88, 5.94, 5.99, 6.04, 6.09, 6.15, 6.23, 6.29]\n",
    "X= [float(x) for x in x]\n",
    "val = np.trapz(y)\n",
    "print('Np.trapz estimated summation: about', val, 'photons')"
   ]
  },
  {
   "cell_type": "code",
   "execution_count": 144,
   "metadata": {},
   "outputs": [
    {
     "name": "stdout",
     "output_type": "stream",
     "text": [
      "Np.trapz estimated summation: about 41.015 photons\n"
     ]
    }
   ],
   "source": [
    "# use np.trapz to calculate i = 15\n",
    "x = list(range(600, 610))\n",
    "y = [6.39, 6.01, 5.57, 5.12, 4.70, 4.30, 3.93, 3.56, 3.19, 2.88]\n",
    "val = np.trapz(y) #don't need to put x in np.trapz if the dx = 1 (difference between intervals on x axis)\n",
    "print('Np.trapz estimated summation: about', val, 'photons')"
   ]
  },
  {
   "cell_type": "markdown",
   "metadata": {},
   "source": [
    "Practice calculating a_ij using np.trapz and random constant variables "
   ]
  },
  {
   "cell_type": "code",
   "execution_count": 149,
   "metadata": {},
   "outputs": [
    {
     "name": "stdout",
     "output_type": "stream",
     "text": [
      "aij = about 2194492.5 photons\n"
     ]
    }
   ],
   "source": [
    "# use np.trapz to calculate a_ij for i = 10 and j = 1\n",
    "em_minmax = list(range(550, 560))\n",
    "t_summation = [5.78, 5.83, 5.88, 5.94, 5.99, 6.04, 6.09, 6.15, 6.23, 6.29]\n",
    "s = np.trapz(t_summation)\n",
    "\n",
    "k = 1\n",
    "b = 100\n",
    "t = 405 #should this still be 405? or should i also write this in photons and not in wavelength(nm)? What value would i use for photons?\n",
    "d = 10\n",
    "aij = k*b*t*s\n",
    "print('aij = about', aij, 'photons')"
   ]
  },
  {
   "cell_type": "code",
   "execution_count": 148,
   "metadata": {},
   "outputs": [
    {
     "name": "stdout",
     "output_type": "stream",
     "text": [
      "aij = about 2531035.65 photons\n"
     ]
    }
   ],
   "source": [
    "# use np.trapz to calculate a_ij for i = 15 and j = 1\n",
    "em_minmax = list(range(600, 610))\n",
    "t_summation = [6.39, 6.01, 5.57, 5.12, 4.70, 4.30, 3.93, 3.56, 3.19, 2.88]\n",
    "s = np.trapz(t_summation)\n",
    "\n",
    "k = 1\n",
    "b = 110\n",
    "t = 561 #should this still be 561? or should i also write this in photons and not in wavelength(nm)? What value would i use for photons?\n",
    "d = 10\n",
    "aij = k*b*t*s\n",
    "print('aij = about', aij, 'photons')"
   ]
  }
 ],
 "metadata": {
  "kernelspec": {
   "display_name": "Python 3.9.12 ('base')",
   "language": "python",
   "name": "python3"
  },
  "language_info": {
   "codemirror_mode": {
    "name": "ipython",
    "version": 3
   },
   "file_extension": ".py",
   "mimetype": "text/x-python",
   "name": "python",
   "nbconvert_exporter": "python",
   "pygments_lexer": "ipython3",
   "version": "3.9.12"
  },
  "orig_nbformat": 4,
  "vscode": {
   "interpreter": {
    "hash": "d801b28d0c2f9341eaf08410a8d5dd8d794b8daecaeee8ba55dd2443d2219971"
   }
  }
 },
 "nbformat": 4,
 "nbformat_minor": 2
}
